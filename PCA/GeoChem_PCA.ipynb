{
  "nbformat": 4,
  "nbformat_minor": 0,
  "metadata": {
    "colab": {
      "name": "GeoChem PCA",
      "provenance": [],
      "collapsed_sections": [],
      "toc_visible": true
    },
    "kernelspec": {
      "name": "python3",
      "display_name": "Python 3"
    }
  },
  "cells": [
    {
      "cell_type": "markdown",
      "metadata": {
        "id": "9U4JFDFvdv0F"
      },
      "source": [
        "# **GeoChem PCA**"
      ]
    },
    {
      "cell_type": "markdown",
      "metadata": {
        "id": "37EFeLrQeHCu"
      },
      "source": [
        "**Imports**"
      ]
    },
    {
      "cell_type": "code",
      "metadata": {
        "id": "el6o4EukdymT"
      },
      "source": [
        "import pandas as pd\n",
        "import numpy as np"
      ],
      "execution_count": 1,
      "outputs": []
    },
    {
      "cell_type": "markdown",
      "metadata": {
        "id": "qPg-gV0ge2Yg"
      },
      "source": [
        "**Loading Dataset**\n",
        "\n",
        "We use pandas library to load datapoints from the csv file to the pandas dataframe named `df`.\n",
        "\n",
        "The second column contains the stratigraphic position, which is used as the external variable to interpret our ordination. Columns after that (3 to 10) contains the geochemical data which we want to ordinate."
      ]
    },
    {
      "cell_type": "code",
      "metadata": {
        "id": "lSqvnum2erlf"
      },
      "source": [
        "# GITHUB link where data is stored\n",
        "url = 'https://raw.githubusercontent.com/tgautam03/ML-GEO/main/PCA/NashvilleCarbonates.csv'"
      ],
      "execution_count": 2,
      "outputs": []
    },
    {
      "cell_type": "code",
      "metadata": {
        "colab": {
          "base_uri": "https://localhost:8080/",
          "height": 419
        },
        "id": "GvdhMX-geLSG",
        "outputId": "de8b92ac-06b7-4a28-c6df-5de80671de99"
      },
      "source": [
        "df = pd.read_csv(url)\n",
        "df"
      ],
      "execution_count": 3,
      "outputs": [
        {
          "output_type": "execute_result",
          "data": {
            "text/html": [
              "<div>\n",
              "<style scoped>\n",
              "    .dataframe tbody tr th:only-of-type {\n",
              "        vertical-align: middle;\n",
              "    }\n",
              "\n",
              "    .dataframe tbody tr th {\n",
              "        vertical-align: top;\n",
              "    }\n",
              "\n",
              "    .dataframe thead th {\n",
              "        text-align: right;\n",
              "    }\n",
              "</style>\n",
              "<table border=\"1\" class=\"dataframe\">\n",
              "  <thead>\n",
              "    <tr style=\"text-align: right;\">\n",
              "      <th></th>\n",
              "      <th>Unnamed: 0</th>\n",
              "      <th>StratPosition</th>\n",
              "      <th>d13C</th>\n",
              "      <th>d18O</th>\n",
              "      <th>Al</th>\n",
              "      <th>Ca</th>\n",
              "      <th>Fe</th>\n",
              "      <th>Mg</th>\n",
              "      <th>Mn</th>\n",
              "      <th>Si</th>\n",
              "    </tr>\n",
              "  </thead>\n",
              "  <tbody>\n",
              "    <tr>\n",
              "      <th>0</th>\n",
              "      <td>Ae</td>\n",
              "      <td>35.080</td>\n",
              "      <td>1.95</td>\n",
              "      <td>-4.66</td>\n",
              "      <td>1.49</td>\n",
              "      <td>297.16</td>\n",
              "      <td>1.52</td>\n",
              "      <td>2.22</td>\n",
              "      <td>0.34</td>\n",
              "      <td>8.61</td>\n",
              "    </tr>\n",
              "    <tr>\n",
              "      <th>1</th>\n",
              "      <td>Ad</td>\n",
              "      <td>34.745</td>\n",
              "      <td>1.82</td>\n",
              "      <td>-4.57</td>\n",
              "      <td>2.73</td>\n",
              "      <td>275.89</td>\n",
              "      <td>2.70</td>\n",
              "      <td>2.84</td>\n",
              "      <td>0.33</td>\n",
              "      <td>7.32</td>\n",
              "    </tr>\n",
              "    <tr>\n",
              "      <th>2</th>\n",
              "      <td>Ac</td>\n",
              "      <td>34.660</td>\n",
              "      <td>1.91</td>\n",
              "      <td>-4.77</td>\n",
              "      <td>4.26</td>\n",
              "      <td>328.11</td>\n",
              "      <td>3.13</td>\n",
              "      <td>3.12</td>\n",
              "      <td>0.40</td>\n",
              "      <td>9.65</td>\n",
              "    </tr>\n",
              "    <tr>\n",
              "      <th>3</th>\n",
              "      <td>Ab</td>\n",
              "      <td>34.555</td>\n",
              "      <td>0.93</td>\n",
              "      <td>-4.58</td>\n",
              "      <td>4.69</td>\n",
              "      <td>329.66</td>\n",
              "      <td>9.11</td>\n",
              "      <td>2.88</td>\n",
              "      <td>0.47</td>\n",
              "      <td>23.07</td>\n",
              "    </tr>\n",
              "    <tr>\n",
              "      <th>4</th>\n",
              "      <td>Aa</td>\n",
              "      <td>34.285</td>\n",
              "      <td>-0.34</td>\n",
              "      <td>-4.54</td>\n",
              "      <td>4.80</td>\n",
              "      <td>285.67</td>\n",
              "      <td>3.46</td>\n",
              "      <td>3.69</td>\n",
              "      <td>0.45</td>\n",
              "      <td>9.97</td>\n",
              "    </tr>\n",
              "    <tr>\n",
              "      <th>...</th>\n",
              "      <td>...</td>\n",
              "      <td>...</td>\n",
              "      <td>...</td>\n",
              "      <td>...</td>\n",
              "      <td>...</td>\n",
              "      <td>...</td>\n",
              "      <td>...</td>\n",
              "      <td>...</td>\n",
              "      <td>...</td>\n",
              "      <td>...</td>\n",
              "    </tr>\n",
              "    <tr>\n",
              "      <th>195</th>\n",
              "      <td>H16</td>\n",
              "      <td>32.650</td>\n",
              "      <td>1.07</td>\n",
              "      <td>-3.91</td>\n",
              "      <td>7.70</td>\n",
              "      <td>249.25</td>\n",
              "      <td>7.79</td>\n",
              "      <td>10.67</td>\n",
              "      <td>0.13</td>\n",
              "      <td>12.77</td>\n",
              "    </tr>\n",
              "    <tr>\n",
              "      <th>196</th>\n",
              "      <td>H17</td>\n",
              "      <td>32.550</td>\n",
              "      <td>1.28</td>\n",
              "      <td>-3.88</td>\n",
              "      <td>9.03</td>\n",
              "      <td>245.66</td>\n",
              "      <td>6.31</td>\n",
              "      <td>8.15</td>\n",
              "      <td>0.11</td>\n",
              "      <td>18.51</td>\n",
              "    </tr>\n",
              "    <tr>\n",
              "      <th>197</th>\n",
              "      <td>H18</td>\n",
              "      <td>32.450</td>\n",
              "      <td>1.37</td>\n",
              "      <td>-3.97</td>\n",
              "      <td>4.32</td>\n",
              "      <td>335.58</td>\n",
              "      <td>3.90</td>\n",
              "      <td>5.96</td>\n",
              "      <td>0.11</td>\n",
              "      <td>7.84</td>\n",
              "    </tr>\n",
              "    <tr>\n",
              "      <th>198</th>\n",
              "      <td>H19</td>\n",
              "      <td>32.350</td>\n",
              "      <td>0.49</td>\n",
              "      <td>-4.06</td>\n",
              "      <td>4.25</td>\n",
              "      <td>299.89</td>\n",
              "      <td>3.16</td>\n",
              "      <td>4.10</td>\n",
              "      <td>0.07</td>\n",
              "      <td>7.75</td>\n",
              "    </tr>\n",
              "    <tr>\n",
              "      <th>199</th>\n",
              "      <td>H20</td>\n",
              "      <td>32.250</td>\n",
              "      <td>1.11</td>\n",
              "      <td>-3.51</td>\n",
              "      <td>6.72</td>\n",
              "      <td>254.27</td>\n",
              "      <td>6.65</td>\n",
              "      <td>11.19</td>\n",
              "      <td>0.12</td>\n",
              "      <td>11.58</td>\n",
              "    </tr>\n",
              "  </tbody>\n",
              "</table>\n",
              "<p>200 rows × 10 columns</p>\n",
              "</div>"
            ],
            "text/plain": [
              "    Unnamed: 0  StratPosition  d13C  d18O  ...    Fe     Mg    Mn     Si\n",
              "0           Ae         35.080  1.95 -4.66  ...  1.52   2.22  0.34   8.61\n",
              "1           Ad         34.745  1.82 -4.57  ...  2.70   2.84  0.33   7.32\n",
              "2           Ac         34.660  1.91 -4.77  ...  3.13   3.12  0.40   9.65\n",
              "3           Ab         34.555  0.93 -4.58  ...  9.11   2.88  0.47  23.07\n",
              "4           Aa         34.285 -0.34 -4.54  ...  3.46   3.69  0.45   9.97\n",
              "..         ...            ...   ...   ...  ...   ...    ...   ...    ...\n",
              "195        H16         32.650  1.07 -3.91  ...  7.79  10.67  0.13  12.77\n",
              "196        H17         32.550  1.28 -3.88  ...  6.31   8.15  0.11  18.51\n",
              "197        H18         32.450  1.37 -3.97  ...  3.90   5.96  0.11   7.84\n",
              "198        H19         32.350  0.49 -4.06  ...  3.16   4.10  0.07   7.75\n",
              "199        H20         32.250  1.11 -3.51  ...  6.65  11.19  0.12  11.58\n",
              "\n",
              "[200 rows x 10 columns]"
            ]
          },
          "metadata": {
            "tags": []
          },
          "execution_count": 3
        }
      ]
    },
    {
      "cell_type": "markdown",
      "metadata": {
        "id": "DYo6ZOA9xILi"
      },
      "source": [
        "Next step would be to separate geochemical data and store that in a separate dataframe `geochem_df` and stratigraphic position in another dataframe `strat_df`."
      ]
    },
    {
      "cell_type": "code",
      "metadata": {
        "id": "1wHr9wnBeclm"
      },
      "source": [
        "geochem_df = df.iloc[:,2:]\n",
        "strat_df = df.iloc[:,1:2]"
      ],
      "execution_count": 4,
      "outputs": []
    },
    {
      "cell_type": "markdown",
      "metadata": {
        "id": "YioGzZZYyjEQ"
      },
      "source": [
        "Visualizing `geochem_df` and `strat_df`."
      ]
    },
    {
      "cell_type": "code",
      "metadata": {
        "colab": {
          "base_uri": "https://localhost:8080/",
          "height": 419
        },
        "id": "c7b1ULhEyjQM",
        "outputId": "9f1948d2-ad99-40cd-959b-76c703890ad1"
      },
      "source": [
        "geochem_df"
      ],
      "execution_count": 5,
      "outputs": [
        {
          "output_type": "execute_result",
          "data": {
            "text/html": [
              "<div>\n",
              "<style scoped>\n",
              "    .dataframe tbody tr th:only-of-type {\n",
              "        vertical-align: middle;\n",
              "    }\n",
              "\n",
              "    .dataframe tbody tr th {\n",
              "        vertical-align: top;\n",
              "    }\n",
              "\n",
              "    .dataframe thead th {\n",
              "        text-align: right;\n",
              "    }\n",
              "</style>\n",
              "<table border=\"1\" class=\"dataframe\">\n",
              "  <thead>\n",
              "    <tr style=\"text-align: right;\">\n",
              "      <th></th>\n",
              "      <th>d13C</th>\n",
              "      <th>d18O</th>\n",
              "      <th>Al</th>\n",
              "      <th>Ca</th>\n",
              "      <th>Fe</th>\n",
              "      <th>Mg</th>\n",
              "      <th>Mn</th>\n",
              "      <th>Si</th>\n",
              "    </tr>\n",
              "  </thead>\n",
              "  <tbody>\n",
              "    <tr>\n",
              "      <th>0</th>\n",
              "      <td>1.95</td>\n",
              "      <td>-4.66</td>\n",
              "      <td>1.49</td>\n",
              "      <td>297.16</td>\n",
              "      <td>1.52</td>\n",
              "      <td>2.22</td>\n",
              "      <td>0.34</td>\n",
              "      <td>8.61</td>\n",
              "    </tr>\n",
              "    <tr>\n",
              "      <th>1</th>\n",
              "      <td>1.82</td>\n",
              "      <td>-4.57</td>\n",
              "      <td>2.73</td>\n",
              "      <td>275.89</td>\n",
              "      <td>2.70</td>\n",
              "      <td>2.84</td>\n",
              "      <td>0.33</td>\n",
              "      <td>7.32</td>\n",
              "    </tr>\n",
              "    <tr>\n",
              "      <th>2</th>\n",
              "      <td>1.91</td>\n",
              "      <td>-4.77</td>\n",
              "      <td>4.26</td>\n",
              "      <td>328.11</td>\n",
              "      <td>3.13</td>\n",
              "      <td>3.12</td>\n",
              "      <td>0.40</td>\n",
              "      <td>9.65</td>\n",
              "    </tr>\n",
              "    <tr>\n",
              "      <th>3</th>\n",
              "      <td>0.93</td>\n",
              "      <td>-4.58</td>\n",
              "      <td>4.69</td>\n",
              "      <td>329.66</td>\n",
              "      <td>9.11</td>\n",
              "      <td>2.88</td>\n",
              "      <td>0.47</td>\n",
              "      <td>23.07</td>\n",
              "    </tr>\n",
              "    <tr>\n",
              "      <th>4</th>\n",
              "      <td>-0.34</td>\n",
              "      <td>-4.54</td>\n",
              "      <td>4.80</td>\n",
              "      <td>285.67</td>\n",
              "      <td>3.46</td>\n",
              "      <td>3.69</td>\n",
              "      <td>0.45</td>\n",
              "      <td>9.97</td>\n",
              "    </tr>\n",
              "    <tr>\n",
              "      <th>...</th>\n",
              "      <td>...</td>\n",
              "      <td>...</td>\n",
              "      <td>...</td>\n",
              "      <td>...</td>\n",
              "      <td>...</td>\n",
              "      <td>...</td>\n",
              "      <td>...</td>\n",
              "      <td>...</td>\n",
              "    </tr>\n",
              "    <tr>\n",
              "      <th>195</th>\n",
              "      <td>1.07</td>\n",
              "      <td>-3.91</td>\n",
              "      <td>7.70</td>\n",
              "      <td>249.25</td>\n",
              "      <td>7.79</td>\n",
              "      <td>10.67</td>\n",
              "      <td>0.13</td>\n",
              "      <td>12.77</td>\n",
              "    </tr>\n",
              "    <tr>\n",
              "      <th>196</th>\n",
              "      <td>1.28</td>\n",
              "      <td>-3.88</td>\n",
              "      <td>9.03</td>\n",
              "      <td>245.66</td>\n",
              "      <td>6.31</td>\n",
              "      <td>8.15</td>\n",
              "      <td>0.11</td>\n",
              "      <td>18.51</td>\n",
              "    </tr>\n",
              "    <tr>\n",
              "      <th>197</th>\n",
              "      <td>1.37</td>\n",
              "      <td>-3.97</td>\n",
              "      <td>4.32</td>\n",
              "      <td>335.58</td>\n",
              "      <td>3.90</td>\n",
              "      <td>5.96</td>\n",
              "      <td>0.11</td>\n",
              "      <td>7.84</td>\n",
              "    </tr>\n",
              "    <tr>\n",
              "      <th>198</th>\n",
              "      <td>0.49</td>\n",
              "      <td>-4.06</td>\n",
              "      <td>4.25</td>\n",
              "      <td>299.89</td>\n",
              "      <td>3.16</td>\n",
              "      <td>4.10</td>\n",
              "      <td>0.07</td>\n",
              "      <td>7.75</td>\n",
              "    </tr>\n",
              "    <tr>\n",
              "      <th>199</th>\n",
              "      <td>1.11</td>\n",
              "      <td>-3.51</td>\n",
              "      <td>6.72</td>\n",
              "      <td>254.27</td>\n",
              "      <td>6.65</td>\n",
              "      <td>11.19</td>\n",
              "      <td>0.12</td>\n",
              "      <td>11.58</td>\n",
              "    </tr>\n",
              "  </tbody>\n",
              "</table>\n",
              "<p>200 rows × 8 columns</p>\n",
              "</div>"
            ],
            "text/plain": [
              "     d13C  d18O    Al      Ca    Fe     Mg    Mn     Si\n",
              "0    1.95 -4.66  1.49  297.16  1.52   2.22  0.34   8.61\n",
              "1    1.82 -4.57  2.73  275.89  2.70   2.84  0.33   7.32\n",
              "2    1.91 -4.77  4.26  328.11  3.13   3.12  0.40   9.65\n",
              "3    0.93 -4.58  4.69  329.66  9.11   2.88  0.47  23.07\n",
              "4   -0.34 -4.54  4.80  285.67  3.46   3.69  0.45   9.97\n",
              "..    ...   ...   ...     ...   ...    ...   ...    ...\n",
              "195  1.07 -3.91  7.70  249.25  7.79  10.67  0.13  12.77\n",
              "196  1.28 -3.88  9.03  245.66  6.31   8.15  0.11  18.51\n",
              "197  1.37 -3.97  4.32  335.58  3.90   5.96  0.11   7.84\n",
              "198  0.49 -4.06  4.25  299.89  3.16   4.10  0.07   7.75\n",
              "199  1.11 -3.51  6.72  254.27  6.65  11.19  0.12  11.58\n",
              "\n",
              "[200 rows x 8 columns]"
            ]
          },
          "metadata": {
            "tags": []
          },
          "execution_count": 5
        }
      ]
    },
    {
      "cell_type": "code",
      "metadata": {
        "colab": {
          "base_uri": "https://localhost:8080/",
          "height": 419
        },
        "id": "_PrUwv9-yqbZ",
        "outputId": "060f20ee-4d3e-42cb-c426-e11333de0c11"
      },
      "source": [
        "strat_df"
      ],
      "execution_count": 6,
      "outputs": [
        {
          "output_type": "execute_result",
          "data": {
            "text/html": [
              "<div>\n",
              "<style scoped>\n",
              "    .dataframe tbody tr th:only-of-type {\n",
              "        vertical-align: middle;\n",
              "    }\n",
              "\n",
              "    .dataframe tbody tr th {\n",
              "        vertical-align: top;\n",
              "    }\n",
              "\n",
              "    .dataframe thead th {\n",
              "        text-align: right;\n",
              "    }\n",
              "</style>\n",
              "<table border=\"1\" class=\"dataframe\">\n",
              "  <thead>\n",
              "    <tr style=\"text-align: right;\">\n",
              "      <th></th>\n",
              "      <th>StratPosition</th>\n",
              "    </tr>\n",
              "  </thead>\n",
              "  <tbody>\n",
              "    <tr>\n",
              "      <th>0</th>\n",
              "      <td>35.080</td>\n",
              "    </tr>\n",
              "    <tr>\n",
              "      <th>1</th>\n",
              "      <td>34.745</td>\n",
              "    </tr>\n",
              "    <tr>\n",
              "      <th>2</th>\n",
              "      <td>34.660</td>\n",
              "    </tr>\n",
              "    <tr>\n",
              "      <th>3</th>\n",
              "      <td>34.555</td>\n",
              "    </tr>\n",
              "    <tr>\n",
              "      <th>4</th>\n",
              "      <td>34.285</td>\n",
              "    </tr>\n",
              "    <tr>\n",
              "      <th>...</th>\n",
              "      <td>...</td>\n",
              "    </tr>\n",
              "    <tr>\n",
              "      <th>195</th>\n",
              "      <td>32.650</td>\n",
              "    </tr>\n",
              "    <tr>\n",
              "      <th>196</th>\n",
              "      <td>32.550</td>\n",
              "    </tr>\n",
              "    <tr>\n",
              "      <th>197</th>\n",
              "      <td>32.450</td>\n",
              "    </tr>\n",
              "    <tr>\n",
              "      <th>198</th>\n",
              "      <td>32.350</td>\n",
              "    </tr>\n",
              "    <tr>\n",
              "      <th>199</th>\n",
              "      <td>32.250</td>\n",
              "    </tr>\n",
              "  </tbody>\n",
              "</table>\n",
              "<p>200 rows × 1 columns</p>\n",
              "</div>"
            ],
            "text/plain": [
              "     StratPosition\n",
              "0           35.080\n",
              "1           34.745\n",
              "2           34.660\n",
              "3           34.555\n",
              "4           34.285\n",
              "..             ...\n",
              "195         32.650\n",
              "196         32.550\n",
              "197         32.450\n",
              "198         32.350\n",
              "199         32.250\n",
              "\n",
              "[200 rows x 1 columns]"
            ]
          },
          "metadata": {
            "tags": []
          },
          "execution_count": 6
        }
      ]
    },
    {
      "cell_type": "markdown",
      "metadata": {
        "id": "4MPJO-N7yLDO"
      },
      "source": [
        "Let's now load `geochem_df` and `strat_df` into teo separate numpy arrays."
      ]
    },
    {
      "cell_type": "code",
      "metadata": {
        "colab": {
          "base_uri": "https://localhost:8080/"
        },
        "id": "9K9lqh9KrCDK",
        "outputId": "f838226c-a520-4434-e735-b31f3ad43532"
      },
      "source": [
        "x = geochem_df.values\n",
        "x, x.shape"
      ],
      "execution_count": 7,
      "outputs": [
        {
          "output_type": "execute_result",
          "data": {
            "text/plain": [
              "(array([[ 1.95, -4.66,  1.49, ...,  2.22,  0.34,  8.61],\n",
              "        [ 1.82, -4.57,  2.73, ...,  2.84,  0.33,  7.32],\n",
              "        [ 1.91, -4.77,  4.26, ...,  3.12,  0.4 ,  9.65],\n",
              "        ...,\n",
              "        [ 1.37, -3.97,  4.32, ...,  5.96,  0.11,  7.84],\n",
              "        [ 0.49, -4.06,  4.25, ...,  4.1 ,  0.07,  7.75],\n",
              "        [ 1.11, -3.51,  6.72, ..., 11.19,  0.12, 11.58]]), (200, 8))"
            ]
          },
          "metadata": {
            "tags": []
          },
          "execution_count": 7
        }
      ]
    },
    {
      "cell_type": "code",
      "metadata": {
        "colab": {
          "base_uri": "https://localhost:8080/"
        },
        "id": "pOIOjpJyzAAL",
        "outputId": "2d1988bb-6738-4d9a-c6d7-8fc510dd7714"
      },
      "source": [
        "y = strat_df.values\n",
        "y, y.shape"
      ],
      "execution_count": 8,
      "outputs": [
        {
          "output_type": "execute_result",
          "data": {
            "text/plain": [
              "(array([[35.08 ],\n",
              "        [34.745],\n",
              "        [34.66 ],\n",
              "        [34.555],\n",
              "        [34.285],\n",
              "        [34.15 ],\n",
              "        [34.05 ],\n",
              "        [33.95 ],\n",
              "        [33.85 ],\n",
              "        [33.75 ],\n",
              "        [33.65 ],\n",
              "        [33.55 ],\n",
              "        [33.45 ],\n",
              "        [33.35 ],\n",
              "        [33.25 ],\n",
              "        [33.15 ],\n",
              "        [33.05 ],\n",
              "        [32.95 ],\n",
              "        [32.85 ],\n",
              "        [32.75 ],\n",
              "        [32.65 ],\n",
              "        [32.55 ],\n",
              "        [32.45 ],\n",
              "        [32.35 ],\n",
              "        [32.25 ],\n",
              "        [35.08 ],\n",
              "        [34.745],\n",
              "        [34.66 ],\n",
              "        [34.555],\n",
              "        [34.285],\n",
              "        [34.15 ],\n",
              "        [34.05 ],\n",
              "        [33.95 ],\n",
              "        [33.85 ],\n",
              "        [33.75 ],\n",
              "        [33.65 ],\n",
              "        [33.55 ],\n",
              "        [33.45 ],\n",
              "        [33.35 ],\n",
              "        [33.25 ],\n",
              "        [33.15 ],\n",
              "        [33.05 ],\n",
              "        [32.95 ],\n",
              "        [32.85 ],\n",
              "        [32.75 ],\n",
              "        [32.65 ],\n",
              "        [32.55 ],\n",
              "        [32.45 ],\n",
              "        [32.35 ],\n",
              "        [32.25 ],\n",
              "        [35.08 ],\n",
              "        [34.745],\n",
              "        [34.66 ],\n",
              "        [34.555],\n",
              "        [34.285],\n",
              "        [34.15 ],\n",
              "        [34.05 ],\n",
              "        [33.95 ],\n",
              "        [33.85 ],\n",
              "        [33.75 ],\n",
              "        [33.65 ],\n",
              "        [33.55 ],\n",
              "        [33.45 ],\n",
              "        [33.35 ],\n",
              "        [33.25 ],\n",
              "        [33.15 ],\n",
              "        [33.05 ],\n",
              "        [32.95 ],\n",
              "        [32.85 ],\n",
              "        [32.75 ],\n",
              "        [32.65 ],\n",
              "        [32.55 ],\n",
              "        [32.45 ],\n",
              "        [32.35 ],\n",
              "        [32.25 ],\n",
              "        [35.08 ],\n",
              "        [34.745],\n",
              "        [34.66 ],\n",
              "        [34.555],\n",
              "        [34.285],\n",
              "        [34.15 ],\n",
              "        [34.05 ],\n",
              "        [33.95 ],\n",
              "        [33.85 ],\n",
              "        [33.75 ],\n",
              "        [33.65 ],\n",
              "        [33.55 ],\n",
              "        [33.45 ],\n",
              "        [33.35 ],\n",
              "        [33.25 ],\n",
              "        [33.15 ],\n",
              "        [33.05 ],\n",
              "        [32.95 ],\n",
              "        [32.85 ],\n",
              "        [32.75 ],\n",
              "        [32.65 ],\n",
              "        [32.55 ],\n",
              "        [32.45 ],\n",
              "        [32.35 ],\n",
              "        [32.25 ],\n",
              "        [35.08 ],\n",
              "        [34.745],\n",
              "        [34.66 ],\n",
              "        [34.555],\n",
              "        [34.285],\n",
              "        [34.15 ],\n",
              "        [34.05 ],\n",
              "        [33.95 ],\n",
              "        [33.85 ],\n",
              "        [33.75 ],\n",
              "        [33.65 ],\n",
              "        [33.55 ],\n",
              "        [33.45 ],\n",
              "        [33.35 ],\n",
              "        [33.25 ],\n",
              "        [33.15 ],\n",
              "        [33.05 ],\n",
              "        [32.95 ],\n",
              "        [32.85 ],\n",
              "        [32.75 ],\n",
              "        [32.65 ],\n",
              "        [32.55 ],\n",
              "        [32.45 ],\n",
              "        [32.35 ],\n",
              "        [32.25 ],\n",
              "        [35.08 ],\n",
              "        [34.745],\n",
              "        [34.66 ],\n",
              "        [34.555],\n",
              "        [34.285],\n",
              "        [34.15 ],\n",
              "        [34.05 ],\n",
              "        [33.95 ],\n",
              "        [33.85 ],\n",
              "        [33.75 ],\n",
              "        [33.65 ],\n",
              "        [33.55 ],\n",
              "        [33.45 ],\n",
              "        [33.35 ],\n",
              "        [33.25 ],\n",
              "        [33.15 ],\n",
              "        [33.05 ],\n",
              "        [32.95 ],\n",
              "        [32.85 ],\n",
              "        [32.75 ],\n",
              "        [32.65 ],\n",
              "        [32.55 ],\n",
              "        [32.45 ],\n",
              "        [32.35 ],\n",
              "        [32.25 ],\n",
              "        [35.08 ],\n",
              "        [34.745],\n",
              "        [34.66 ],\n",
              "        [34.555],\n",
              "        [34.285],\n",
              "        [34.15 ],\n",
              "        [34.05 ],\n",
              "        [33.95 ],\n",
              "        [33.85 ],\n",
              "        [33.75 ],\n",
              "        [33.65 ],\n",
              "        [33.55 ],\n",
              "        [33.45 ],\n",
              "        [33.35 ],\n",
              "        [33.25 ],\n",
              "        [33.15 ],\n",
              "        [33.05 ],\n",
              "        [32.95 ],\n",
              "        [32.85 ],\n",
              "        [32.75 ],\n",
              "        [32.65 ],\n",
              "        [32.55 ],\n",
              "        [32.45 ],\n",
              "        [32.35 ],\n",
              "        [32.25 ],\n",
              "        [35.08 ],\n",
              "        [34.745],\n",
              "        [34.66 ],\n",
              "        [34.555],\n",
              "        [34.285],\n",
              "        [34.15 ],\n",
              "        [34.05 ],\n",
              "        [33.95 ],\n",
              "        [33.85 ],\n",
              "        [33.75 ],\n",
              "        [33.65 ],\n",
              "        [33.55 ],\n",
              "        [33.45 ],\n",
              "        [33.35 ],\n",
              "        [33.25 ],\n",
              "        [33.15 ],\n",
              "        [33.05 ],\n",
              "        [32.95 ],\n",
              "        [32.85 ],\n",
              "        [32.75 ],\n",
              "        [32.65 ],\n",
              "        [32.55 ],\n",
              "        [32.45 ],\n",
              "        [32.35 ],\n",
              "        [32.25 ]]), (200, 1))"
            ]
          },
          "metadata": {
            "tags": []
          },
          "execution_count": 8
        }
      ]
    },
    {
      "cell_type": "markdown",
      "metadata": {
        "id": "VEOjIPWTr-T2"
      },
      "source": [
        "**Standardizing the dataset**"
      ]
    },
    {
      "cell_type": "markdown",
      "metadata": {
        "id": "GgmOiHA-r-T2"
      },
      "source": [
        "PCA is effected by scale so you need to scale the features in your data before applying PCA. Use StandardScaler to help you standardize the dataset’s features onto unit scale (mean = 0 and variance = 1) which is a requirement for the optimal performance of many machine learning algorithms."
      ]
    },
    {
      "cell_type": "code",
      "metadata": {
        "id": "VeMeDowRr-T2"
      },
      "source": [
        "from sklearn.preprocessing import StandardScaler\n",
        "x = StandardScaler().fit_transform(x)"
      ],
      "execution_count": 9,
      "outputs": []
    },
    {
      "cell_type": "markdown",
      "metadata": {
        "id": "QPSLzbMyzOnR"
      },
      "source": [
        "Fitting dataset to PCA and using 8 components (equal to the number of variables) and then visualizing the scree plot."
      ]
    },
    {
      "cell_type": "code",
      "metadata": {
        "id": "-_62Xb-2r-T2"
      },
      "source": [
        "from sklearn.decomposition import PCA\n",
        "pca = PCA(n_components=8)\n",
        "principalComponents = pca.fit_transform(x)\n",
        "# Variance explained by each component\n",
        "perc = pca.explained_variance_ratio_"
      ],
      "execution_count": 10,
      "outputs": []
    },
    {
      "cell_type": "markdown",
      "metadata": {
        "id": "v_PmNWFTzr7Z"
      },
      "source": [
        "Scree plot of the Variance Explained."
      ]
    },
    {
      "cell_type": "code",
      "metadata": {
        "colab": {
          "base_uri": "https://localhost:8080/",
          "height": 279
        },
        "id": "O-2pGQ1msyAp",
        "outputId": "c3795af8-4ee5-4be6-c902-af034d5f3814"
      },
      "source": [
        "import matplotlib.pyplot as plt\n",
        "\n",
        "x_axis = np.array([1,2,3,4,5,6,7,8])\n",
        "plt.scatter(x_axis, perc)\n",
        "plt.xlabel(\"Principal Component\")\n",
        "plt.ylabel(\"Percentage Variance\")\n",
        "plt.show()"
      ],
      "execution_count": 11,
      "outputs": [
        {
          "output_type": "display_data",
          "data": {
            "image/png": "[encoded data removed]",
            "text/plain": [
              "<Figure size 432x288 with 1 Axes>"
            ]
          },
          "metadata": {
            "tags": [],
            "needs_background": "light"
          }
        }
      ]
    },
    {
      "cell_type": "markdown",
      "metadata": {
        "id": "LO6WLDpK0eZv"
      },
      "source": [
        "1) The first thing we should look for in the scree plot is a marked drop in the percentage of explained variance.\n",
        "\n",
        "2) The second criteria is which principal component explains more than one variable's worth of information.\n",
        "\n",
        "If we consider the second case, each component's contribution comes around 12.5% . Let's now see how many pricipal components lie above this threshold."
      ]
    },
    {
      "cell_type": "code",
      "metadata": {
        "colab": {
          "base_uri": "https://localhost:8080/"
        },
        "id": "WVjTa21N1XXZ",
        "outputId": "b797194f-be19-485a-e18a-05b703edeb18"
      },
      "source": [
        "perc > 0.125"
      ],
      "execution_count": 12,
      "outputs": [
        {
          "output_type": "execute_result",
          "data": {
            "text/plain": [
              "array([ True,  True,  True, False, False, False, False, False])"
            ]
          },
          "metadata": {
            "tags": []
          },
          "execution_count": 12
        }
      ]
    },
    {
      "cell_type": "markdown",
      "metadata": {
        "id": "ekJPLdtz1diS"
      },
      "source": [
        "From the above code block we can see that 1st three principal components lie over the set threshold and below we show how much they actually contribute together."
      ]
    },
    {
      "cell_type": "code",
      "metadata": {
        "colab": {
          "base_uri": "https://localhost:8080/"
        },
        "id": "4-9pDRxq1c9c",
        "outputId": "94790af5-8f37-4f36-de9f-6444af30cdc5"
      },
      "source": [
        "print(\"Total contribution of 1st three components: {} %\".format(np.sum(perc[:3])*100))"
      ],
      "execution_count": 13,
      "outputs": [
        {
          "output_type": "stream",
          "text": [
            "Total contribution of 1st three components: 72.56807552755035 %\n"
          ],
          "name": "stdout"
        }
      ]
    },
    {
      "cell_type": "markdown",
      "metadata": {
        "id": "YANtmyc62GrV"
      },
      "source": [
        "The nexr step is to see how the varibles contribute to each principal component. As there are 8 variables and 8 principal components, the `loading` matrix will be $8 \\times 8$, but we are only concerned about the 1st three components."
      ]
    },
    {
      "cell_type": "code",
      "metadata": {
        "colab": {
          "base_uri": "https://localhost:8080/"
        },
        "id": "pbmUlIOWwNRh",
        "outputId": "51633dc5-f957-48e6-f027-28171f6bf86e"
      },
      "source": [
        "loadings = pca.components_.T * np.sqrt(pca.explained_variance_)\n",
        "loadings.shape"
      ],
      "execution_count": 14,
      "outputs": [
        {
          "output_type": "execute_result",
          "data": {
            "text/plain": [
              "(8, 8)"
            ]
          },
          "metadata": {
            "tags": []
          },
          "execution_count": 14
        }
      ]
    },
    {
      "cell_type": "markdown",
      "metadata": {
        "id": "uqbtAWk_3pbc"
      },
      "source": [
        "Storing these values in the dataframe `loadings_df` and visualizing them."
      ]
    },
    {
      "cell_type": "code",
      "metadata": {
        "colab": {
          "base_uri": "https://localhost:8080/",
          "height": 297
        },
        "id": "oDlwfhGm3vu5",
        "outputId": "a790c753-d0c4-4b01-b8d4-9fa862a73bb7"
      },
      "source": [
        "# creating a list of index names \n",
        "index_values = ['d13C', 'd180', 'Al', 'Ca', \n",
        "                'Fe', 'Mg', 'Mn', 'Si'] \n",
        "   \n",
        "# creating a list of column names \n",
        "column_values = ['PC1', 'PC2', 'PC3'] \n",
        "  \n",
        "# creating the dataframe \n",
        "loadings_df = pd.DataFrame(data = loadings[:,:3],  \n",
        "                  index = index_values,  \n",
        "                  columns = column_values)\n",
        "\n",
        "loadings_df"
      ],
      "execution_count": 15,
      "outputs": [
        {
          "output_type": "execute_result",
          "data": {
            "text/html": [
              "<div>\n",
              "<style scoped>\n",
              "    .dataframe tbody tr th:only-of-type {\n",
              "        vertical-align: middle;\n",
              "    }\n",
              "\n",
              "    .dataframe tbody tr th {\n",
              "        vertical-align: top;\n",
              "    }\n",
              "\n",
              "    .dataframe thead th {\n",
              "        text-align: right;\n",
              "    }\n",
              "</style>\n",
              "<table border=\"1\" class=\"dataframe\">\n",
              "  <thead>\n",
              "    <tr style=\"text-align: right;\">\n",
              "      <th></th>\n",
              "      <th>PC1</th>\n",
              "      <th>PC2</th>\n",
              "      <th>PC3</th>\n",
              "    </tr>\n",
              "  </thead>\n",
              "  <tbody>\n",
              "    <tr>\n",
              "      <th>d13C</th>\n",
              "      <td>0.192518</td>\n",
              "      <td>0.300466</td>\n",
              "      <td>-0.724295</td>\n",
              "    </tr>\n",
              "    <tr>\n",
              "      <th>d180</th>\n",
              "      <td>0.019791</td>\n",
              "      <td>-0.890953</td>\n",
              "      <td>-0.039835</td>\n",
              "    </tr>\n",
              "    <tr>\n",
              "      <th>Al</th>\n",
              "      <td>0.891372</td>\n",
              "      <td>-0.308336</td>\n",
              "      <td>-0.102387</td>\n",
              "    </tr>\n",
              "    <tr>\n",
              "      <th>Ca</th>\n",
              "      <td>-0.560233</td>\n",
              "      <td>-0.078751</td>\n",
              "      <td>-0.360169</td>\n",
              "    </tr>\n",
              "    <tr>\n",
              "      <th>Fe</th>\n",
              "      <td>0.696894</td>\n",
              "      <td>0.445288</td>\n",
              "      <td>0.321456</td>\n",
              "    </tr>\n",
              "    <tr>\n",
              "      <th>Mg</th>\n",
              "      <td>0.435280</td>\n",
              "      <td>-0.713459</td>\n",
              "      <td>-0.340251</td>\n",
              "    </tr>\n",
              "    <tr>\n",
              "      <th>Mn</th>\n",
              "      <td>0.228903</td>\n",
              "      <td>0.618762</td>\n",
              "      <td>-0.431325</td>\n",
              "    </tr>\n",
              "    <tr>\n",
              "      <th>Si</th>\n",
              "      <td>0.898759</td>\n",
              "      <td>0.054642</td>\n",
              "      <td>0.058447</td>\n",
              "    </tr>\n",
              "  </tbody>\n",
              "</table>\n",
              "</div>"
            ],
            "text/plain": [
              "           PC1       PC2       PC3\n",
              "d13C  0.192518  0.300466 -0.724295\n",
              "d180  0.019791 -0.890953 -0.039835\n",
              "Al    0.891372 -0.308336 -0.102387\n",
              "Ca   -0.560233 -0.078751 -0.360169\n",
              "Fe    0.696894  0.445288  0.321456\n",
              "Mg    0.435280 -0.713459 -0.340251\n",
              "Mn    0.228903  0.618762 -0.431325\n",
              "Si    0.898759  0.054642  0.058447"
            ]
          },
          "metadata": {
            "tags": []
          },
          "execution_count": 15
        }
      ]
    },
    {
      "cell_type": "markdown",
      "metadata": {
        "id": "InPRZNk0r-T2"
      },
      "source": [
        "**Plotting Visualization**\n",
        "\n",
        "The final step is to visualize the scatter plot in 2D. Here we'll use only the 1st two Principal Components. The data is divided into two classes, Carters (stratigraphic position < 34.2) and Hermitage (stratigraphic position > 34.2)."
      ]
    },
    {
      "cell_type": "code",
      "metadata": {
        "colab": {
          "base_uri": "https://localhost:8080/",
          "height": 295
        },
        "id": "ha1aB9bYr-T2",
        "outputId": "75f2b08b-457b-4d39-a93c-540d3fa255c4"
      },
      "source": [
        "import matplotlib.pyplot as plt\n",
        "\n",
        "y_label = (y > 34.2)*1\n",
        "y_label = y_label.reshape(y_label.shape[0])\n",
        "\n",
        "# plot the clusters\n",
        "plt.scatter(principalComponents[y_label == 0,0],principalComponents[y_label == 0,1], color='green', label='Carters')\n",
        "plt.scatter(principalComponents[y_label == 1,0],principalComponents[y_label == 1,1], color='orange', label='Hermitage')\n",
        "\n",
        "plt.legend(scatterpoints=1)\n",
        "plt.title(\"Nashville Carbobnates\")\n",
        "plt.xlabel(\"Principal component 1\")\n",
        "plt.ylabel(\"Principal component 2\")\n",
        "plt.show()"
      ],
      "execution_count": 16,
      "outputs": [
        {
          "output_type": "display_data",
          "data": {
            "image/png": "[encoded data removed]",
            "text/plain": [
              "<Figure size 432x288 with 1 Axes>"
            ]
          },
          "metadata": {
            "tags": [],
            "needs_background": "light"
          }
        }
      ]
    },
    {
      "cell_type": "code",
      "metadata": {
        "id": "NOfDhUtariqg"
      },
      "source": [
        ""
      ],
      "execution_count": 16,
      "outputs": []
    }
  ]
}