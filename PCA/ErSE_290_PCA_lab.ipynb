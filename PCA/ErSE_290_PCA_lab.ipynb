{
  "nbformat": 4,
  "nbformat_minor": 0,
  "metadata": {
    "colab": {
      "name": "ErSE 290: PCA lab",
      "provenance": [],
      "collapsed_sections": [
        "py1FLHEWiGsT",
        "La740v0h4j_v",
        "RrQJYtY95Aib",
        "GEZO_DNH8xW-"
      ],
      "toc_visible": true
    },
    "kernelspec": {
      "name": "python3",
      "display_name": "Python 3"
    }
  },
  "cells": [
    {
      "cell_type": "markdown",
      "metadata": {
        "id": "py1FLHEWiGsT"
      },
      "source": [
        "# **Principal Component Analysis**"
      ]
    },
    {
      "cell_type": "markdown",
      "metadata": {
        "id": "3Rrzr2i4jShR"
      },
      "source": [
        "A way for obtaining a better understanding of the data is to visualise it; however, it is not straightforward\n",
        "to visualise high-dimensional data. \n",
        "\n",
        "Principal Component Analysis (PCA) is a technique that is widely used for applications such as dimensionality\n",
        "reduction, visualization and lossy data compression. \n",
        "\n",
        "PCA is used to decompose a multivariate dataset in a set of successive orthogonal components that explain a maximum amount of the variance. In scikit-learn, PCA is implemented as a transformer object that learns  components in its ```fit``` method, and can be used on new data to project it on these components."
      ]
    },
    {
      "cell_type": "markdown",
      "metadata": {
        "id": "_qyYfTkBl_iF"
      },
      "source": [
        "## Loading example dataset\n",
        "\n"
      ]
    },
    {
      "cell_type": "markdown",
      "metadata": {
        "id": "rc2W2RKxl_iK"
      },
      "source": [
        "Take a look at different datasets provided in scikit-learn [here](https://scikit-learn.org/stable/datasets/index.html#datasets) and import the iris dataset."
      ]
    },
    {
      "cell_type": "code",
      "metadata": {
        "id": "zCDPm_jxl_iK"
      },
      "source": [
        "# Essential imports\n",
        "import sklearn\n",
        "from sklearn import datasets\n",
        "\n",
        "# Loading dataset into the variable\n",
        "iris = datasets.load_iris()\n",
        "x = iris.data\n",
        "y = iris.target"
      ],
      "execution_count": null,
      "outputs": []
    },
    {
      "cell_type": "markdown",
      "metadata": {
        "id": "tZn0rTpImqMc"
      },
      "source": [
        "Now to visualize the data and it's shape, complete the code inside the ```print``` statement."
      ]
    },
    {
      "cell_type": "code",
      "metadata": {
        "id": "TJZimH34l_iO",
        "colab": {
          "base_uri": "https://localhost:8080/"
        },
        "outputId": "e4ab8393-229d-4b6e-b4b4-15d54eec4971"
      },
      "source": [
        "print(\"Dataset array: \\n\", x)\n",
        "print(\"\")\n",
        "print(\"Shape: \\n\", x.shape)"
      ],
      "execution_count": null,
      "outputs": [
        {
          "output_type": "stream",
          "text": [
            "Dataset array: \n",
            " [[5.1 3.5 1.4 0.2]\n",
            " [4.9 3.  1.4 0.2]\n",
            " [4.7 3.2 1.3 0.2]\n",
            " [4.6 3.1 1.5 0.2]\n",
            " [5.  3.6 1.4 0.2]\n",
            " [5.4 3.9 1.7 0.4]\n",
            " [4.6 3.4 1.4 0.3]\n",
            " [5.  3.4 1.5 0.2]\n",
            " [4.4 2.9 1.4 0.2]\n",
            " [4.9 3.1 1.5 0.1]\n",
            " [5.4 3.7 1.5 0.2]\n",
            " [4.8 3.4 1.6 0.2]\n",
            " [4.8 3.  1.4 0.1]\n",
            " [4.3 3.  1.1 0.1]\n",
            " [5.8 4.  1.2 0.2]\n",
            " [5.7 4.4 1.5 0.4]\n",
            " [5.4 3.9 1.3 0.4]\n",
            " [5.1 3.5 1.4 0.3]\n",
            " [5.7 3.8 1.7 0.3]\n",
            " [5.1 3.8 1.5 0.3]\n",
            " [5.4 3.4 1.7 0.2]\n",
            " [5.1 3.7 1.5 0.4]\n",
            " [4.6 3.6 1.  0.2]\n",
            " [5.1 3.3 1.7 0.5]\n",
            " [4.8 3.4 1.9 0.2]\n",
            " [5.  3.  1.6 0.2]\n",
            " [5.  3.4 1.6 0.4]\n",
            " [5.2 3.5 1.5 0.2]\n",
            " [5.2 3.4 1.4 0.2]\n",
            " [4.7 3.2 1.6 0.2]\n",
            " [4.8 3.1 1.6 0.2]\n",
            " [5.4 3.4 1.5 0.4]\n",
            " [5.2 4.1 1.5 0.1]\n",
            " [5.5 4.2 1.4 0.2]\n",
            " [4.9 3.1 1.5 0.2]\n",
            " [5.  3.2 1.2 0.2]\n",
            " [5.5 3.5 1.3 0.2]\n",
            " [4.9 3.6 1.4 0.1]\n",
            " [4.4 3.  1.3 0.2]\n",
            " [5.1 3.4 1.5 0.2]\n",
            " [5.  3.5 1.3 0.3]\n",
            " [4.5 2.3 1.3 0.3]\n",
            " [4.4 3.2 1.3 0.2]\n",
            " [5.  3.5 1.6 0.6]\n",
            " [5.1 3.8 1.9 0.4]\n",
            " [4.8 3.  1.4 0.3]\n",
            " [5.1 3.8 1.6 0.2]\n",
            " [4.6 3.2 1.4 0.2]\n",
            " [5.3 3.7 1.5 0.2]\n",
            " [5.  3.3 1.4 0.2]\n",
            " [7.  3.2 4.7 1.4]\n",
            " [6.4 3.2 4.5 1.5]\n",
            " [6.9 3.1 4.9 1.5]\n",
            " [5.5 2.3 4.  1.3]\n",
            " [6.5 2.8 4.6 1.5]\n",
            " [5.7 2.8 4.5 1.3]\n",
            " [6.3 3.3 4.7 1.6]\n",
            " [4.9 2.4 3.3 1. ]\n",
            " [6.6 2.9 4.6 1.3]\n",
            " [5.2 2.7 3.9 1.4]\n",
            " [5.  2.  3.5 1. ]\n",
            " [5.9 3.  4.2 1.5]\n",
            " [6.  2.2 4.  1. ]\n",
            " [6.1 2.9 4.7 1.4]\n",
            " [5.6 2.9 3.6 1.3]\n",
            " [6.7 3.1 4.4 1.4]\n",
            " [5.6 3.  4.5 1.5]\n",
            " [5.8 2.7 4.1 1. ]\n",
            " [6.2 2.2 4.5 1.5]\n",
            " [5.6 2.5 3.9 1.1]\n",
            " [5.9 3.2 4.8 1.8]\n",
            " [6.1 2.8 4.  1.3]\n",
            " [6.3 2.5 4.9 1.5]\n",
            " [6.1 2.8 4.7 1.2]\n",
            " [6.4 2.9 4.3 1.3]\n",
            " [6.6 3.  4.4 1.4]\n",
            " [6.8 2.8 4.8 1.4]\n",
            " [6.7 3.  5.  1.7]\n",
            " [6.  2.9 4.5 1.5]\n",
            " [5.7 2.6 3.5 1. ]\n",
            " [5.5 2.4 3.8 1.1]\n",
            " [5.5 2.4 3.7 1. ]\n",
            " [5.8 2.7 3.9 1.2]\n",
            " [6.  2.7 5.1 1.6]\n",
            " [5.4 3.  4.5 1.5]\n",
            " [6.  3.4 4.5 1.6]\n",
            " [6.7 3.1 4.7 1.5]\n",
            " [6.3 2.3 4.4 1.3]\n",
            " [5.6 3.  4.1 1.3]\n",
            " [5.5 2.5 4.  1.3]\n",
            " [5.5 2.6 4.4 1.2]\n",
            " [6.1 3.  4.6 1.4]\n",
            " [5.8 2.6 4.  1.2]\n",
            " [5.  2.3 3.3 1. ]\n",
            " [5.6 2.7 4.2 1.3]\n",
            " [5.7 3.  4.2 1.2]\n",
            " [5.7 2.9 4.2 1.3]\n",
            " [6.2 2.9 4.3 1.3]\n",
            " [5.1 2.5 3.  1.1]\n",
            " [5.7 2.8 4.1 1.3]\n",
            " [6.3 3.3 6.  2.5]\n",
            " [5.8 2.7 5.1 1.9]\n",
            " [7.1 3.  5.9 2.1]\n",
            " [6.3 2.9 5.6 1.8]\n",
            " [6.5 3.  5.8 2.2]\n",
            " [7.6 3.  6.6 2.1]\n",
            " [4.9 2.5 4.5 1.7]\n",
            " [7.3 2.9 6.3 1.8]\n",
            " [6.7 2.5 5.8 1.8]\n",
            " [7.2 3.6 6.1 2.5]\n",
            " [6.5 3.2 5.1 2. ]\n",
            " [6.4 2.7 5.3 1.9]\n",
            " [6.8 3.  5.5 2.1]\n",
            " [5.7 2.5 5.  2. ]\n",
            " [5.8 2.8 5.1 2.4]\n",
            " [6.4 3.2 5.3 2.3]\n",
            " [6.5 3.  5.5 1.8]\n",
            " [7.7 3.8 6.7 2.2]\n",
            " [7.7 2.6 6.9 2.3]\n",
            " [6.  2.2 5.  1.5]\n",
            " [6.9 3.2 5.7 2.3]\n",
            " [5.6 2.8 4.9 2. ]\n",
            " [7.7 2.8 6.7 2. ]\n",
            " [6.3 2.7 4.9 1.8]\n",
            " [6.7 3.3 5.7 2.1]\n",
            " [7.2 3.2 6.  1.8]\n",
            " [6.2 2.8 4.8 1.8]\n",
            " [6.1 3.  4.9 1.8]\n",
            " [6.4 2.8 5.6 2.1]\n",
            " [7.2 3.  5.8 1.6]\n",
            " [7.4 2.8 6.1 1.9]\n",
            " [7.9 3.8 6.4 2. ]\n",
            " [6.4 2.8 5.6 2.2]\n",
            " [6.3 2.8 5.1 1.5]\n",
            " [6.1 2.6 5.6 1.4]\n",
            " [7.7 3.  6.1 2.3]\n",
            " [6.3 3.4 5.6 2.4]\n",
            " [6.4 3.1 5.5 1.8]\n",
            " [6.  3.  4.8 1.8]\n",
            " [6.9 3.1 5.4 2.1]\n",
            " [6.7 3.1 5.6 2.4]\n",
            " [6.9 3.1 5.1 2.3]\n",
            " [5.8 2.7 5.1 1.9]\n",
            " [6.8 3.2 5.9 2.3]\n",
            " [6.7 3.3 5.7 2.5]\n",
            " [6.7 3.  5.2 2.3]\n",
            " [6.3 2.5 5.  1.9]\n",
            " [6.5 3.  5.2 2. ]\n",
            " [6.2 3.4 5.4 2.3]\n",
            " [5.9 3.  5.1 1.8]]\n",
            "\n",
            "Shape: \n",
            " (150, 4)\n"
          ],
          "name": "stdout"
        }
      ]
    },
    {
      "cell_type": "markdown",
      "metadata": {
        "id": "HNfXiYo5xhMX"
      },
      "source": [
        "Attribute information:\n",
        "*   sepal length in cm\n",
        "\n",
        "*   sepal width in cm\n",
        "\n",
        "*   petal length in cm\n",
        "\n",
        "*   petal width in cm\n"
      ]
    },
    {
      "cell_type": "markdown",
      "metadata": {
        "id": "ZZrg2k5rvAN8"
      },
      "source": [
        "## PCA projection to 2D"
      ]
    },
    {
      "cell_type": "markdown",
      "metadata": {
        "id": "uMwpQopIyyx_"
      },
      "source": [
        "The original data has 4 columns. In this section, the code projects the original data which is 4 dimensional into 2 dimensions. It should be noted that after dimensionality reduction, there usually isn’t a particular meaning assigned to each principal component. The new components are just the two main dimensions of variation."
      ]
    },
    {
      "cell_type": "code",
      "metadata": {
        "id": "U-jS6BajvCzs"
      },
      "source": [
        "from sklearn.decomposition import PCA\n",
        "pca = PCA(n_components=2)\n",
        "principalComponents = pca.fit_transform(x)"
      ],
      "execution_count": null,
      "outputs": []
    },
    {
      "cell_type": "code",
      "metadata": {
        "colab": {
          "base_uri": "https://localhost:8080/"
        },
        "id": "pGleED9s5Ovq",
        "outputId": "c9855ea6-a4a1-4722-a0cf-b5c0d53b2f8c"
      },
      "source": [
        "principalComponents.shape"
      ],
      "execution_count": null,
      "outputs": [
        {
          "output_type": "execute_result",
          "data": {
            "text/plain": [
              "(150, 2)"
            ]
          },
          "metadata": {
            "tags": []
          },
          "execution_count": 4
        }
      ]
    },
    {
      "cell_type": "markdown",
      "metadata": {
        "id": "jqz5slm-xyjG"
      },
      "source": [
        "**Plotting Visualization**"
      ]
    },
    {
      "cell_type": "code",
      "metadata": {
        "id": "s-4WN3BGxyjL",
        "colab": {
          "base_uri": "https://localhost:8080/",
          "height": 295
        },
        "outputId": "ee096150-78f6-497b-e292-f37e303fb022"
      },
      "source": [
        "import matplotlib.pyplot as plt\n",
        "\n",
        "# plot the clusters\n",
        "plt.scatter(principalComponents[y == 0,0],principalComponents[y == 0,1], color='green', label='Iris-Setosa')\n",
        "plt.scatter(principalComponents[y == 1,0],principalComponents[y == 1,1], color='orange', label='Iris-Versicolour')\n",
        "plt.scatter(principalComponents[y == 2,0],principalComponents[y == 2,1], color='red', label='Iris-Virginica')\n",
        "\n",
        "plt.legend(scatterpoints=1)\n",
        "plt.title(\"Iris dataset\")\n",
        "# plt.ylim(-3, 2)\n",
        "plt.xlabel(\"Principal component 1\")\n",
        "plt.ylabel(\"Principal component 2\")\n",
        "plt.show()"
      ],
      "execution_count": null,
      "outputs": [
        {
          "output_type": "display_data",
          "data": {
            "image/png": "[encoded data removed]",
            "text/plain": [
              "<Figure size 432x288 with 1 Axes>"
            ]
          },
          "metadata": {
            "tags": [],
            "needs_background": "light"
          }
        }
      ]
    },
    {
      "cell_type": "markdown",
      "metadata": {
        "id": "TzZxTtKAx3JD"
      },
      "source": [
        "**Standardizing the dataset**"
      ]
    },
    {
      "cell_type": "markdown",
      "metadata": {
        "id": "OHu16JCix3JD"
      },
      "source": [
        "PCA is effected by scale so you need to scale the features in your data before applying PCA. Use StandardScaler to help you standardize the dataset’s features onto unit scale (mean = 0 and variance = 1) which is a requirement for the optimal performance of many machine learning algorithms."
      ]
    },
    {
      "cell_type": "code",
      "metadata": {
        "id": "oVH4uSAwx3JD"
      },
      "source": [
        "from sklearn.preprocessing import StandardScaler\n",
        "x = StandardScaler().fit_transform(x)"
      ],
      "execution_count": null,
      "outputs": []
    },
    {
      "cell_type": "code",
      "metadata": {
        "id": "gbpLYq7jx3JE"
      },
      "source": [
        "from sklearn.decomposition import PCA\n",
        "pca = PCA(n_components=2)\n",
        "principalComponents = pca.fit_transform(x)"
      ],
      "execution_count": null,
      "outputs": []
    },
    {
      "cell_type": "markdown",
      "metadata": {
        "id": "ajuU2icwx3JE"
      },
      "source": [
        "**Plotting Visualization**"
      ]
    },
    {
      "cell_type": "code",
      "metadata": {
        "colab": {
          "base_uri": "https://localhost:8080/",
          "height": 295
        },
        "id": "Vm6zDikdx3JE",
        "outputId": "0badbbea-c714-4020-ca21-2216a8ec0920"
      },
      "source": [
        "import matplotlib.pyplot as plt\n",
        "\n",
        "# plot the clusters\n",
        "plt.scatter(principalComponents[y == 0,0],principalComponents[y == 0,1], color='green', label='Iris-Setosa')\n",
        "plt.scatter(principalComponents[y == 1,0],principalComponents[y == 1,1], color='orange', label='Iris-Versicolour')\n",
        "plt.scatter(principalComponents[y == 2,0],principalComponents[y == 2,1], color='red', label='Iris-Virginica')\n",
        "\n",
        "plt.legend(scatterpoints=1)\n",
        "plt.title(\"Iris dataset\")\n",
        "plt.xlabel(\"Principal component 1\")\n",
        "plt.ylabel(\"Principal component 2\")\n",
        "plt.show()"
      ],
      "execution_count": null,
      "outputs": [
        {
          "output_type": "display_data",
          "data": {
            "image/png": "[encoded data removed]",
            "text/plain": [
              "<Figure size 432x288 with 1 Axes>"
            ]
          },
          "metadata": {
            "tags": [],
            "needs_background": "light"
          }
        }
      ]
    },
    {
      "cell_type": "code",
      "metadata": {
        "id": "TSFS-MJqxnkp"
      },
      "source": [
        ""
      ],
      "execution_count": null,
      "outputs": []
    },
    {
      "cell_type": "markdown",
      "metadata": {
        "id": "La740v0h4j_v"
      },
      "source": [
        "# **Principal Component Analysis on digits dataset**"
      ]
    },
    {
      "cell_type": "markdown",
      "metadata": {
        "id": "l-CzUOcs4j_v"
      },
      "source": [
        "Try this section yourself using Digits Dataset. "
      ]
    },
    {
      "cell_type": "markdown",
      "metadata": {
        "id": "j5mxPZdd4j_v"
      },
      "source": [
        "## Loading example dataset\n",
        "\n"
      ]
    },
    {
      "cell_type": "markdown",
      "metadata": {
        "id": "qv6sTL9w4j_v"
      },
      "source": [
        "Take a look at different datasets provided in scikit-learn [here](https://scikit-learn.org/stable/datasets/index.html#datasets) and import the digits dataset."
      ]
    },
    {
      "cell_type": "code",
      "metadata": {
        "id": "bQI07dL_4j_v"
      },
      "source": [
        "# Essential imports\n",
        "import sklearn\n",
        "from sklearn import datasets\n",
        "\n",
        "# Loading dataset into the variable\n",
        "# load the dataset\n",
        "digits = datasets.load_digits()\n",
        "x = digits.data\n",
        "y = digits.target"
      ],
      "execution_count": null,
      "outputs": []
    },
    {
      "cell_type": "markdown",
      "metadata": {
        "id": "7S8kQm6P4j_v"
      },
      "source": [
        "Now to visualize the data and it's shape, complete the code inside the ```print``` statement."
      ]
    },
    {
      "cell_type": "code",
      "metadata": {
        "colab": {
          "base_uri": "https://localhost:8080/"
        },
        "id": "dYYtCCpf4j_v",
        "outputId": "108461e3-688a-486a-ee6b-5b45625e2b8a"
      },
      "source": [
        "print(\"Dataset array: \\n\", x)\n",
        "print(\"\")\n",
        "print(\"Shape: \\n\", x.shape)"
      ],
      "execution_count": null,
      "outputs": [
        {
          "output_type": "stream",
          "text": [
            "Dataset array: \n",
            " [[ 0.  0.  5. ...  0.  0.  0.]\n",
            " [ 0.  0.  0. ... 10.  0.  0.]\n",
            " [ 0.  0.  0. ... 16.  9.  0.]\n",
            " ...\n",
            " [ 0.  0.  1. ...  6.  0.  0.]\n",
            " [ 0.  0.  2. ... 12.  0.  0.]\n",
            " [ 0.  0. 10. ... 12.  1.  0.]]\n",
            "\n",
            "Shape: \n",
            " (1797, 64)\n"
          ],
          "name": "stdout"
        }
      ]
    },
    {
      "cell_type": "code",
      "metadata": {
        "id": "MfnWi324iMgH",
        "colab": {
          "base_uri": "https://localhost:8080/",
          "height": 265
        },
        "outputId": "f730cceb-03dc-4ec0-ba2b-b6a705018103"
      },
      "source": [
        "import matplotlib.pyplot as plt\n",
        "import numpy as np\n",
        "plt.imshow(x[np.random.randint(x.shape[0])].reshape(8,8))\n",
        "plt.show()"
      ],
      "execution_count": null,
      "outputs": [
        {
          "output_type": "display_data",
          "data": {
            "image/png": "[encoded data removed]",
            "text/plain": [
              "<Figure size 432x288 with 1 Axes>"
            ]
          },
          "metadata": {
            "tags": [],
            "needs_background": "light"
          }
        }
      ]
    },
    {
      "cell_type": "markdown",
      "metadata": {
        "id": "dRJsvevIuuTk"
      },
      "source": [
        "**Standardizing the dataset**"
      ]
    },
    {
      "cell_type": "markdown",
      "metadata": {
        "id": "TJbrB1dTwdPm"
      },
      "source": [
        "PCA is effected by scale so you need to scale the features in your data before applying PCA. Use StandardScaler to help you standardize the dataset’s features onto unit scale (mean = 0 and variance = 1) which is a requirement for the optimal performance of many machine learning algorithms."
      ]
    },
    {
      "cell_type": "code",
      "metadata": {
        "id": "ZPE9n9isutbD"
      },
      "source": [
        "from sklearn.preprocessing import StandardScaler\n",
        "x = StandardScaler().fit_transform(x)"
      ],
      "execution_count": null,
      "outputs": []
    },
    {
      "cell_type": "markdown",
      "metadata": {
        "id": "yR5XiNUY4j_v"
      },
      "source": [
        "## PCA projection to 2D"
      ]
    },
    {
      "cell_type": "markdown",
      "metadata": {
        "id": "a0dsK85q4j_v"
      },
      "source": [
        "The original data has 16 columns (different pixels). In this section, the code projects the original data which is 16 dimensional into 2 dimensions. It should be noted that after dimensionality reduction, there usually isn’t a particular meaning assigned to each principal component. The new components are just the two main dimensions of variation."
      ]
    },
    {
      "cell_type": "code",
      "metadata": {
        "id": "GDUGeNS34j_w"
      },
      "source": [
        "from sklearn.decomposition import PCA\n",
        "import pandas as pd\n",
        "pca = PCA(n_components=2)\n",
        "principalComponents = pca.fit_transform(x)"
      ],
      "execution_count": null,
      "outputs": []
    },
    {
      "cell_type": "markdown",
      "metadata": {
        "id": "iDx4ICPJ4j_w"
      },
      "source": [
        "**Plotting Visualization**"
      ]
    },
    {
      "cell_type": "code",
      "metadata": {
        "colab": {
          "base_uri": "https://localhost:8080/",
          "height": 295
        },
        "id": "9yL7bu3-4j_w",
        "outputId": "7e45d2fd-263b-445a-8108-8a8a5e38775f"
      },
      "source": [
        "import matplotlib.pyplot as plt\n",
        "\n",
        "# plot the clusters\n",
        "plt.scatter(principalComponents[y == 0,0],principalComponents[y == 0,1], color='green', label='0')\n",
        "plt.scatter(principalComponents[y == 1,0],principalComponents[y == 1,1], color='orange', label='1')\n",
        "plt.scatter(principalComponents[y == 2,0],principalComponents[y == 2,1], color='red', label='2')\n",
        "plt.scatter(principalComponents[y == 3,0],principalComponents[y == 3,1], color='brown', label='3')\n",
        "plt.scatter(principalComponents[y == 4,0],principalComponents[y == 4,1], color='cyan', label='4')\n",
        "plt.scatter(principalComponents[y == 5,0],principalComponents[y == 5,1], color='gray', label='5')\n",
        "plt.scatter(principalComponents[y == 6,0],principalComponents[y == 6,1], color='black', label='6')\n",
        "plt.scatter(principalComponents[y == 7,0],principalComponents[y == 7,1], color='yellow', label='7')\n",
        "plt.scatter(principalComponents[y == 8,0],principalComponents[y == 8,1], color='blue', label='8')\n",
        "plt.scatter(principalComponents[y == 9,0],principalComponents[y == 9,1], color='purple', label='9')\n",
        "\n",
        "plt.legend(scatterpoints=1)\n",
        "plt.title(\"Digits dataset\")\n",
        "plt.xlabel(\"Principal component 1\")\n",
        "plt.ylabel(\"Principal component 2\")\n",
        "#plt.grid()\n",
        "plt.show()"
      ],
      "execution_count": null,
      "outputs": [
        {
          "output_type": "display_data",
          "data": {
            "image/png": "[encoded data removed]",
            "text/plain": [
              "<Figure size 432x288 with 1 Axes>"
            ]
          },
          "metadata": {
            "tags": [],
            "needs_background": "light"
          }
        }
      ]
    },
    {
      "cell_type": "markdown",
      "metadata": {
        "id": "RrQJYtY95Aib"
      },
      "source": [
        "# **PCA + SVM**"
      ]
    },
    {
      "cell_type": "markdown",
      "metadata": {
        "id": "tCrofAdyqaQ0"
      },
      "source": [
        "## Loading example dataset\n",
        "\n"
      ]
    },
    {
      "cell_type": "markdown",
      "metadata": {
        "id": "xAnedSdGttIC"
      },
      "source": [
        "Scikit-learn comes with a few standard datasets like iris, digits, breast cancer type identification, etc. More detail on different datasets can be found [here](https://scikit-learn.org/stable/datasets/index.html#datasets).\n",
        "\n",
        "These datasets can be imported from the ```sklearn``` module using ```datasets``` command and can then be loaded into a variable with a single line method."
      ]
    },
    {
      "cell_type": "code",
      "metadata": {
        "id": "FD9U1K-lpyTu"
      },
      "source": [
        "# Essential imports\n",
        "import sklearn\n",
        "from sklearn import datasets\n",
        "\n",
        "# Loading dataset into the variable\n",
        "cancer_data = datasets.load_breast_cancer()"
      ],
      "execution_count": null,
      "outputs": []
    },
    {
      "cell_type": "markdown",
      "metadata": {
        "id": "LJyG3TdquuB0"
      },
      "source": [
        "A dataset is a dictionary-like object that holds all the data and some metadata about the dataset. This data is stored in the ```.data``` member, which is a ```n_samples, n_features``` array. In the case of supervised problem, response variables are stored in the ```.target``` member.\n",
        "\n",
        "For example in the above loaded dataset, the command ```cancer_data.data``` provides the features that are used to make the classification. "
      ]
    },
    {
      "cell_type": "code",
      "metadata": {
        "id": "wLeNyECBwGSL",
        "colab": {
          "base_uri": "https://localhost:8080/"
        },
        "outputId": "1168adc5-eab6-4437-af7d-eb8fb73ef2c3"
      },
      "source": [
        "print(\"Dataset array: \\n\", cancer_data.data)\n",
        "print(\"\")\n",
        "print(\"Shape: \\n\", cancer_data.data.shape)"
      ],
      "execution_count": null,
      "outputs": [
        {
          "output_type": "stream",
          "text": [
            "Dataset array: \n",
            " [[1.799e+01 1.038e+01 1.228e+02 ... 2.654e-01 4.601e-01 1.189e-01]\n",
            " [2.057e+01 1.777e+01 1.329e+02 ... 1.860e-01 2.750e-01 8.902e-02]\n",
            " [1.969e+01 2.125e+01 1.300e+02 ... 2.430e-01 3.613e-01 8.758e-02]\n",
            " ...\n",
            " [1.660e+01 2.808e+01 1.083e+02 ... 1.418e-01 2.218e-01 7.820e-02]\n",
            " [2.060e+01 2.933e+01 1.401e+02 ... 2.650e-01 4.087e-01 1.240e-01]\n",
            " [7.760e+00 2.454e+01 4.792e+01 ... 0.000e+00 2.871e-01 7.039e-02]]\n",
            "\n",
            "Shape: \n",
            " (569, 30)\n"
          ],
          "name": "stdout"
        }
      ]
    },
    {
      "cell_type": "markdown",
      "metadata": {
        "id": "9mSF7De8xKdt"
      },
      "source": [
        "The Target values (ground truth) can also be accessed using ```cancer_data.target```."
      ]
    },
    {
      "cell_type": "code",
      "metadata": {
        "id": "RqdE3ND4wTAW",
        "colab": {
          "base_uri": "https://localhost:8080/"
        },
        "outputId": "de9b5f09-3d2a-4624-957a-0166578e5d57"
      },
      "source": [
        "print(\"Target array: \\n\", cancer_data.target)\n",
        "print(\"\")\n",
        "print(\"Shape: \\n\", cancer_data.target.shape)"
      ],
      "execution_count": null,
      "outputs": [
        {
          "output_type": "stream",
          "text": [
            "Target array: \n",
            " [0 0 0 0 0 0 0 0 0 0 0 0 0 0 0 0 0 0 0 1 1 1 0 0 0 0 0 0 0 0 0 0 0 0 0 0 0\n",
            " 1 0 0 0 0 0 0 0 0 1 0 1 1 1 1 1 0 0 1 0 0 1 1 1 1 0 1 0 0 1 1 1 1 0 1 0 0\n",
            " 1 0 1 0 0 1 1 1 0 0 1 0 0 0 1 1 1 0 1 1 0 0 1 1 1 0 0 1 1 1 1 0 1 1 0 1 1\n",
            " 1 1 1 1 1 1 0 0 0 1 0 0 1 1 1 0 0 1 0 1 0 0 1 0 0 1 1 0 1 1 0 1 1 1 1 0 1\n",
            " 1 1 1 1 1 1 1 1 0 1 1 1 1 0 0 1 0 1 1 0 0 1 1 0 0 1 1 1 1 0 1 1 0 0 0 1 0\n",
            " 1 0 1 1 1 0 1 1 0 0 1 0 0 0 0 1 0 0 0 1 0 1 0 1 1 0 1 0 0 0 0 1 1 0 0 1 1\n",
            " 1 0 1 1 1 1 1 0 0 1 1 0 1 1 0 0 1 0 1 1 1 1 0 1 1 1 1 1 0 1 0 0 0 0 0 0 0\n",
            " 0 0 0 0 0 0 0 1 1 1 1 1 1 0 1 0 1 1 0 1 1 0 1 0 0 1 1 1 1 1 1 1 1 1 1 1 1\n",
            " 1 0 1 1 0 1 0 1 1 1 1 1 1 1 1 1 1 1 1 1 1 0 1 1 1 0 1 0 1 1 1 1 0 0 0 1 1\n",
            " 1 1 0 1 0 1 0 1 1 1 0 1 1 1 1 1 1 1 0 0 0 1 1 1 1 1 1 1 1 1 1 1 0 0 1 0 0\n",
            " 0 1 0 0 1 1 1 1 1 0 1 1 1 1 1 0 1 1 1 0 1 1 0 0 1 1 1 1 1 1 0 1 1 1 1 1 1\n",
            " 1 0 1 1 1 1 1 0 1 1 0 1 1 1 1 1 1 1 1 1 1 1 1 0 1 0 0 1 0 1 1 1 1 1 0 1 1\n",
            " 0 1 0 1 1 0 1 0 1 1 1 1 1 1 1 1 0 0 1 1 1 1 1 1 0 1 1 1 1 1 1 1 1 1 1 0 1\n",
            " 1 1 1 1 1 1 0 1 0 1 1 0 1 1 1 1 1 0 0 1 0 1 0 1 1 1 1 1 0 1 1 0 1 0 1 0 0\n",
            " 1 1 1 0 1 1 1 1 1 1 1 1 1 1 1 0 1 0 0 1 1 1 1 1 1 1 1 1 1 1 1 1 1 1 1 1 1\n",
            " 1 1 1 1 1 1 1 0 0 0 0 0 0 1]\n",
            "\n",
            "Shape: \n",
            " (569,)\n"
          ],
          "name": "stdout"
        }
      ]
    },
    {
      "cell_type": "markdown",
      "metadata": {
        "id": "FSJd3tS1xcYG"
      },
      "source": [
        "## Splitting the dataset into training and testing sets"
      ]
    },
    {
      "cell_type": "markdown",
      "metadata": {
        "id": "vNeNCO3lxthv"
      },
      "source": [
        "Now, as the dataset is loaded, we need to split it into two parts. One (training dataset) will be used to train the SVM classifier and the other (testing dataset) will be used to test it's performance.\n",
        "\n",
        "We can do this easily with another single line command from scikit-learn (remember that this was used to split the dataset in keras lab as well), known as ```train_test_split()```"
      ]
    },
    {
      "cell_type": "code",
      "metadata": {
        "id": "Fol39aPRxANu",
        "colab": {
          "base_uri": "https://localhost:8080/"
        },
        "outputId": "bc4631f5-920b-4cbf-f529-5019202252c0"
      },
      "source": [
        "from sklearn.model_selection import train_test_split\n",
        "# Split data into train and test subsets with 80% used for training and rest for testing\n",
        "X_train, X_test, y_train, y_test = train_test_split(cancer_data.data, cancer_data.target, test_size=0.4, shuffle=True)\n",
        "print(\"X_train shape: \", X_train.shape)\n",
        "print(\"y_train shape: \", y_train.shape)\n",
        "print(\"X_test shape: \", X_test.shape)\n",
        "print(\"y_test shape: \", y_test.shape)"
      ],
      "execution_count": null,
      "outputs": [
        {
          "output_type": "stream",
          "text": [
            "X_train shape:  (341, 30)\n",
            "y_train shape:  (341,)\n",
            "X_test shape:  (228, 30)\n",
            "y_test shape:  (228,)\n"
          ],
          "name": "stdout"
        }
      ]
    },
    {
      "cell_type": "markdown",
      "metadata": {
        "id": "zxvNi_jlzdV-"
      },
      "source": [
        "## Learning and predicting"
      ]
    },
    {
      "cell_type": "markdown",
      "metadata": {
        "id": "fsnNBkUq0I0w"
      },
      "source": [
        "In the case of the Breast Cancer dataset, the task is to identify, given the features, if the cancer is malignant or benign. We are given samples of each of the two cases, on which we fit an estimator to be able to identify the class to which unseen samples belong.\n",
        "\n",
        "In scikit-learn, an estimator for classification is a Python object that implements the methods ```fit(X, y)``` and ```predict(T)```.\n",
        "\n",
        "An example of an estimator is the class ```sklearn.svm.SVC```, which implements support vector classification. The estimator’s constructor takes as arguments the model’s parameters.\n",
        "\n",
        "For now, we will consider the estimator as a black box:"
      ]
    },
    {
      "cell_type": "code",
      "metadata": {
        "id": "9_bB92m5zc0l"
      },
      "source": [
        "from sklearn import svm\n",
        "clf = svm.SVC(kernel='linear')"
      ],
      "execution_count": null,
      "outputs": []
    },
    {
      "cell_type": "markdown",
      "metadata": {
        "id": "UHur6vGr0_U0"
      },
      "source": [
        "The ```clf``` (for classifier) estimator instance is first fitted to the model; that is, it must learn from the model. This is done by passing our training set to the ```fit``` method."
      ]
    },
    {
      "cell_type": "code",
      "metadata": {
        "id": "DyGVi5NuzSNr",
        "colab": {
          "base_uri": "https://localhost:8080/"
        },
        "outputId": "fc33bad7-951f-435d-981c-aaaebdeb8921"
      },
      "source": [
        "clf.fit(X_train, y_train)"
      ],
      "execution_count": null,
      "outputs": [
        {
          "output_type": "execute_result",
          "data": {
            "text/plain": [
              "SVC(C=1.0, break_ties=False, cache_size=200, class_weight=None, coef0=0.0,\n",
              "    decision_function_shape='ovr', degree=3, gamma='scale', kernel='linear',\n",
              "    max_iter=-1, probability=False, random_state=None, shrinking=True,\n",
              "    tol=0.001, verbose=False)"
            ]
          },
          "metadata": {
            "tags": []
          },
          "execution_count": 35
        }
      ]
    },
    {
      "cell_type": "markdown",
      "metadata": {
        "id": "gvaRja_Y1oeh"
      },
      "source": [
        "Now we can predict new values. In this case, we’ll predict using the test dataset."
      ]
    },
    {
      "cell_type": "code",
      "metadata": {
        "id": "zng-90am1J4I"
      },
      "source": [
        "pred = clf.predict(X_test)"
      ],
      "execution_count": null,
      "outputs": []
    },
    {
      "cell_type": "code",
      "metadata": {
        "id": "FLp4Ts7q2yPS",
        "colab": {
          "base_uri": "https://localhost:8080/"
        },
        "outputId": "1d398941-3f0e-4166-e3ca-513ccb6d6489"
      },
      "source": [
        "# Checking the accuracy\n",
        "correct = sum((pred==y_test)*1.)\n",
        "print(\"Accuracy: {} %\".format(correct/y_test.shape[0]*100))"
      ],
      "execution_count": null,
      "outputs": [
        {
          "output_type": "stream",
          "text": [
            "Accuracy: 94.73684210526315 %\n"
          ],
          "name": "stdout"
        }
      ]
    },
    {
      "cell_type": "markdown",
      "metadata": {
        "id": "ORqoRQan5Van"
      },
      "source": [
        "**PCA+SVM starting here!!!**"
      ]
    },
    {
      "cell_type": "markdown",
      "metadata": {
        "id": "EjCyrcGE5obi"
      },
      "source": [
        "## PCA projection to 2D"
      ]
    },
    {
      "cell_type": "markdown",
      "metadata": {
        "id": "wgm1Dx6O5obi"
      },
      "source": [
        "The original data has 30 columns. In this section, the code projects the original data which is 30 dimensional into 2 dimensions. It should be noted that after dimensionality reduction, there usually isn’t a particular meaning assigned to each principal component. The new components are just the two main dimensions of variation."
      ]
    },
    {
      "cell_type": "code",
      "metadata": {
        "id": "wDowLrg55zc3"
      },
      "source": [
        "x = cancer_data.data\n",
        "y = cancer_data.target"
      ],
      "execution_count": null,
      "outputs": []
    },
    {
      "cell_type": "markdown",
      "metadata": {
        "id": "Wo6YOPWo6OLi"
      },
      "source": [
        "**Standardizing the dataset**"
      ]
    },
    {
      "cell_type": "code",
      "metadata": {
        "id": "XcBm7KuH6OLi"
      },
      "source": [
        "from sklearn.preprocessing import StandardScaler\n",
        "x = StandardScaler().fit_transform(x)"
      ],
      "execution_count": null,
      "outputs": []
    },
    {
      "cell_type": "code",
      "metadata": {
        "id": "rmhwCBYp5obi"
      },
      "source": [
        "from sklearn.decomposition import PCA\n",
        "pca = PCA(n_components=2)\n",
        "principalComponents = pca.fit_transform(x)"
      ],
      "execution_count": null,
      "outputs": []
    },
    {
      "cell_type": "code",
      "metadata": {
        "colab": {
          "base_uri": "https://localhost:8080/"
        },
        "id": "0IKdywHw8BmQ",
        "outputId": "9febeb0f-a39f-4d64-d267-e997a8ffff28"
      },
      "source": [
        "principalComponents.shape"
      ],
      "execution_count": null,
      "outputs": [
        {
          "output_type": "execute_result",
          "data": {
            "text/plain": [
              "(569, 2)"
            ]
          },
          "metadata": {
            "tags": []
          },
          "execution_count": 41
        }
      ]
    },
    {
      "cell_type": "markdown",
      "metadata": {
        "id": "SBKh2Y875obi"
      },
      "source": [
        "**Plotting Visualization**"
      ]
    },
    {
      "cell_type": "code",
      "metadata": {
        "colab": {
          "base_uri": "https://localhost:8080/",
          "height": 295
        },
        "id": "DFltpfBy5obi",
        "outputId": "0b5364f8-48e8-4486-d81b-a1e052af2b99"
      },
      "source": [
        "import matplotlib.pyplot as plt\n",
        "\n",
        "# plot the clusters\n",
        "plt.scatter(principalComponents[y == 0,0],principalComponents[y == 0,1], color='green', label='Benign')\n",
        "plt.scatter(principalComponents[y == 1,0],principalComponents[y == 1,1], color='orange', label='Malignant')\n",
        "\n",
        "plt.legend(scatterpoints=1)\n",
        "plt.title(\"Cancer dataset\")\n",
        "plt.xlabel(\"Principal component 1\")\n",
        "plt.ylabel(\"Principal component 2\")\n",
        "plt.show()"
      ],
      "execution_count": null,
      "outputs": [
        {
          "output_type": "display_data",
          "data": {
            "image/png": "[encoded data removed]",
            "text/plain": [
              "<Figure size 432x288 with 1 Axes>"
            ]
          },
          "metadata": {
            "tags": [],
            "needs_background": "light"
          }
        }
      ]
    },
    {
      "cell_type": "code",
      "metadata": {
        "colab": {
          "base_uri": "https://localhost:8080/"
        },
        "id": "dTXfT5rx79_m",
        "outputId": "4d7fe1f6-f1ab-4002-f5ba-a70d06ddccf6"
      },
      "source": [
        "from sklearn.model_selection import train_test_split\n",
        "# Split data into train and test subsets with 80% used for training and rest for testing\n",
        "X_train, X_test, y_train, y_test = train_test_split(principalComponents, y, test_size=0.4, shuffle=True)\n",
        "print(\"X_train shape: \", X_train.shape)\n",
        "print(\"y_train shape: \", y_train.shape)\n",
        "print(\"X_test shape: \", X_test.shape)\n",
        "print(\"y_test shape: \", y_test.shape)"
      ],
      "execution_count": null,
      "outputs": [
        {
          "output_type": "stream",
          "text": [
            "X_train shape:  (341, 2)\n",
            "y_train shape:  (341,)\n",
            "X_test shape:  (228, 2)\n",
            "y_test shape:  (228,)\n"
          ],
          "name": "stdout"
        }
      ]
    },
    {
      "cell_type": "code",
      "metadata": {
        "id": "RXMmFq-E79_n"
      },
      "source": [
        "from sklearn import svm\n",
        "clf = svm.SVC(kernel='linear')"
      ],
      "execution_count": null,
      "outputs": []
    },
    {
      "cell_type": "code",
      "metadata": {
        "colab": {
          "base_uri": "https://localhost:8080/"
        },
        "id": "aud__hMv79_n",
        "outputId": "91757df4-1dac-4350-d443-c9640358bb33"
      },
      "source": [
        "clf.fit(X_train, y_train)"
      ],
      "execution_count": null,
      "outputs": [
        {
          "output_type": "execute_result",
          "data": {
            "text/plain": [
              "SVC(C=1.0, break_ties=False, cache_size=200, class_weight=None, coef0=0.0,\n",
              "    decision_function_shape='ovr', degree=3, gamma='scale', kernel='linear',\n",
              "    max_iter=-1, probability=False, random_state=None, shrinking=True,\n",
              "    tol=0.001, verbose=False)"
            ]
          },
          "metadata": {
            "tags": []
          },
          "execution_count": 45
        }
      ]
    },
    {
      "cell_type": "code",
      "metadata": {
        "id": "pHeBYhEL79_n"
      },
      "source": [
        "pred = clf.predict(X_test)"
      ],
      "execution_count": null,
      "outputs": []
    },
    {
      "cell_type": "code",
      "metadata": {
        "colab": {
          "base_uri": "https://localhost:8080/"
        },
        "id": "8tgQYkC379_n",
        "outputId": "f19a23b0-67cf-423d-ee4d-d0fcfaa05787"
      },
      "source": [
        "# Checking the accuracy\n",
        "correct = sum((pred==y_test)*1.)\n",
        "print(\"Accuracy: {} %\".format(correct/y_test.shape[0]*100))"
      ],
      "execution_count": null,
      "outputs": [
        {
          "output_type": "stream",
          "text": [
            "Accuracy: 94.73684210526315 %\n"
          ],
          "name": "stdout"
        }
      ]
    },
    {
      "cell_type": "code",
      "metadata": {
        "id": "DnhEOQQ45DYh"
      },
      "source": [
        ""
      ],
      "execution_count": null,
      "outputs": []
    },
    {
      "cell_type": "markdown",
      "metadata": {
        "id": "GEZO_DNH8xW-"
      },
      "source": [
        "# **Incremental PCA (IPCA)**"
      ]
    },
    {
      "cell_type": "markdown",
      "metadata": {
        "id": "_3Z8HPV486Gk"
      },
      "source": [
        "Incremental principal component analysis (IPCA) is typically used as a replacement for principal component analysis (PCA) when the dataset to be decomposed is too large to fit in memory. IPCA builds a low-rank approximation for the input data using an amount of memory which is independent of the number of input data samples. It is still dependent on the input data features, but changing the batch size allows for control of memory usage.\n",
        "\n",
        "This example serves as a visual check that IPCA is able to find a similar projection of the data to PCA (to a sign flip), while only processing a few samples at a time. This can be considered a “toy example”, as IPCA is intended for large datasets which do not fit in main memory, requiring incremental approaches."
      ]
    },
    {
      "cell_type": "markdown",
      "metadata": {
        "id": "uUlaN1qn9LL-"
      },
      "source": [
        "## Loading example dataset\n",
        "\n"
      ]
    },
    {
      "cell_type": "code",
      "metadata": {
        "id": "h7oJ3_-Y9LL-"
      },
      "source": [
        "# Essential imports\n",
        "import sklearn\n",
        "from sklearn import datasets\n",
        "\n",
        "# Loading dataset into the variable\n",
        "iris = datasets.load_iris()\n",
        "x = iris.data\n",
        "y = iris.target"
      ],
      "execution_count": null,
      "outputs": []
    },
    {
      "cell_type": "markdown",
      "metadata": {
        "id": "bvTvzO3D9LL_"
      },
      "source": [
        "Attribute information:\n",
        "*   sepal length in cm\n",
        "\n",
        "*   sepal width in cm\n",
        "\n",
        "*   petal length in cm\n",
        "\n",
        "*   petal width in cm\n"
      ]
    },
    {
      "cell_type": "markdown",
      "metadata": {
        "id": "xavkJ-Cf9LL_"
      },
      "source": [
        "## PCA vs IPCA projection to 2D"
      ]
    },
    {
      "cell_type": "markdown",
      "metadata": {
        "id": "TBT89coE9LL_"
      },
      "source": [
        "The original data has 4 columns. In this section, the code projects the original data which is 4 dimensional into 2 dimensions. It should be noted that after dimensionality reduction, there usually isn’t a particular meaning assigned to each principal component. The new components are just the two main dimensions of variation."
      ]
    },
    {
      "cell_type": "code",
      "metadata": {
        "id": "3QzlOKWU9LL_"
      },
      "source": [
        "from sklearn.decomposition import PCA, IncrementalPCA\n",
        "pca = PCA(n_components=2)\n",
        "ipca = IncrementalPCA(n_components=2, batch_size=10)\n",
        "principalComponents = pca.fit_transform(x)\n",
        "i_principalComponents = ipca.fit_transform(x)"
      ],
      "execution_count": null,
      "outputs": []
    },
    {
      "cell_type": "markdown",
      "metadata": {
        "id": "9aDOG0Qf9LL_"
      },
      "source": [
        "**Plotting Visualization**"
      ]
    },
    {
      "cell_type": "code",
      "metadata": {
        "colab": {
          "base_uri": "https://localhost:8080/",
          "height": 573
        },
        "id": "E72yYxEP9LL_",
        "outputId": "eb281eed-6da0-4ab9-ee2c-550673fbbbe8"
      },
      "source": [
        "import matplotlib.pyplot as plt\n",
        "\n",
        "# plot the clusters\n",
        "plt.scatter(principalComponents[y == 0,0],principalComponents[y == 0,1], color='green', label='Iris-Setosa')\n",
        "plt.scatter(principalComponents[y == 1,0],principalComponents[y == 1,1], color='orange', label='Iris-Versicolour')\n",
        "plt.scatter(principalComponents[y == 2,0],principalComponents[y == 2,1], color='red', label='Iris-Virginica')\n",
        "\n",
        "plt.legend(scatterpoints=1)\n",
        "plt.title(\"Iris dataset PCA\")\n",
        "plt.xlabel(\"Principal component 1\")\n",
        "plt.ylabel(\"Principal component 2\")\n",
        "plt.show()\n",
        "\n",
        "# plot the clusters\n",
        "plt.scatter(i_principalComponents[y == 0,0],i_principalComponents[y == 0,1], color='green', label='Iris-Setosa')\n",
        "plt.scatter(i_principalComponents[y == 1,0],i_principalComponents[y == 1,1], color='orange', label='Iris-Versicolour')\n",
        "plt.scatter(i_principalComponents[y == 2,0],i_principalComponents[y == 2,1], color='red', label='Iris-Virginica')\n",
        "\n",
        "plt.legend(scatterpoints=1)\n",
        "plt.title(\"Iris dataset IPCA\")\n",
        "plt.xlabel(\"Principal component 1\")\n",
        "plt.ylabel(\"Principal component 2\")\n",
        "plt.show()"
      ],
      "execution_count": null,
      "outputs": [
        {
          "output_type": "display_data",
          "data": {
            "image/png": "[encoded data removed]",
            "text/plain": [
              "<Figure size 432x288 with 1 Axes>"
            ]
          },
          "metadata": {
            "tags": [],
            "needs_background": "light"
          }
        },
        {
          "output_type": "display_data",
          "data": {
            "image/png": "[encoded data removed]",
            "text/plain": [
              "<Figure size 432x288 with 1 Axes>"
            ]
          },
          "metadata": {
            "tags": [],
            "needs_background": "light"
          }
        }
      ]
    },
    {
      "cell_type": "code",
      "metadata": {
        "id": "O-SSgecW81aP"
      },
      "source": [
        ""
      ],
      "execution_count": null,
      "outputs": []
    },
    {
      "cell_type": "markdown",
      "metadata": {
        "id": "9U4JFDFvdv0F"
      },
      "source": [
        "# **GeoChem PCA**"
      ]
    },
    {
      "cell_type": "markdown",
      "metadata": {
        "id": "37EFeLrQeHCu"
      },
      "source": [
        "**Imports**"
      ]
    },
    {
      "cell_type": "code",
      "metadata": {
        "id": "el6o4EukdymT"
      },
      "source": [
        "import pandas as pd\n",
        "import numpy as np"
      ],
      "execution_count": null,
      "outputs": []
    },
    {
      "cell_type": "markdown",
      "metadata": {
        "id": "qPg-gV0ge2Yg"
      },
      "source": [
        "**Loading Dataset**\n",
        "\n",
        "We use pandas library to load datapoints from the csv file to the pandas dataframe named `df`.\n",
        "\n",
        "The second column contains the stratigraphic position, which is used as the external variable to interpret our ordination. Columns after that (3 to 10) contains the geochemical data which we want to ordinate."
      ]
    },
    {
      "cell_type": "code",
      "metadata": {
        "colab": {
          "base_uri": "https://localhost:8080/",
          "height": 419
        },
        "id": "GvdhMX-geLSG",
        "outputId": "a3a2bbe8-8b77-4848-97b0-5ddb925b65dc"
      },
      "source": [
        "df = pd.read_csv('NashvilleCarbonates.csv')\n",
        "df"
      ],
      "execution_count": null,
      "outputs": [
        {
          "output_type": "execute_result",
          "data": {
            "text/html": [
              "<div>\n",
              "<style scoped>\n",
              "    .dataframe tbody tr th:only-of-type {\n",
              "        vertical-align: middle;\n",
              "    }\n",
              "\n",
              "    .dataframe tbody tr th {\n",
              "        vertical-align: top;\n",
              "    }\n",
              "\n",
              "    .dataframe thead th {\n",
              "        text-align: right;\n",
              "    }\n",
              "</style>\n",
              "<table border=\"1\" class=\"dataframe\">\n",
              "  <thead>\n",
              "    <tr style=\"text-align: right;\">\n",
              "      <th></th>\n",
              "      <th>Unnamed: 0</th>\n",
              "      <th>StratPosition</th>\n",
              "      <th>d13C</th>\n",
              "      <th>d18O</th>\n",
              "      <th>Al</th>\n",
              "      <th>Ca</th>\n",
              "      <th>Fe</th>\n",
              "      <th>Mg</th>\n",
              "      <th>Mn</th>\n",
              "      <th>Si</th>\n",
              "    </tr>\n",
              "  </thead>\n",
              "  <tbody>\n",
              "    <tr>\n",
              "      <th>0</th>\n",
              "      <td>Ae</td>\n",
              "      <td>35.080</td>\n",
              "      <td>1.95</td>\n",
              "      <td>-4.66</td>\n",
              "      <td>1.49</td>\n",
              "      <td>297.16</td>\n",
              "      <td>1.52</td>\n",
              "      <td>2.22</td>\n",
              "      <td>0.34</td>\n",
              "      <td>8.61</td>\n",
              "    </tr>\n",
              "    <tr>\n",
              "      <th>1</th>\n",
              "      <td>Ad</td>\n",
              "      <td>34.745</td>\n",
              "      <td>1.82</td>\n",
              "      <td>-4.57</td>\n",
              "      <td>2.73</td>\n",
              "      <td>275.89</td>\n",
              "      <td>2.70</td>\n",
              "      <td>2.84</td>\n",
              "      <td>0.33</td>\n",
              "      <td>7.32</td>\n",
              "    </tr>\n",
              "    <tr>\n",
              "      <th>2</th>\n",
              "      <td>Ac</td>\n",
              "      <td>34.660</td>\n",
              "      <td>1.91</td>\n",
              "      <td>-4.77</td>\n",
              "      <td>4.26</td>\n",
              "      <td>328.11</td>\n",
              "      <td>3.13</td>\n",
              "      <td>3.12</td>\n",
              "      <td>0.40</td>\n",
              "      <td>9.65</td>\n",
              "    </tr>\n",
              "    <tr>\n",
              "      <th>3</th>\n",
              "      <td>Ab</td>\n",
              "      <td>34.555</td>\n",
              "      <td>0.93</td>\n",
              "      <td>-4.58</td>\n",
              "      <td>4.69</td>\n",
              "      <td>329.66</td>\n",
              "      <td>9.11</td>\n",
              "      <td>2.88</td>\n",
              "      <td>0.47</td>\n",
              "      <td>23.07</td>\n",
              "    </tr>\n",
              "    <tr>\n",
              "      <th>4</th>\n",
              "      <td>Aa</td>\n",
              "      <td>34.285</td>\n",
              "      <td>-0.34</td>\n",
              "      <td>-4.54</td>\n",
              "      <td>4.80</td>\n",
              "      <td>285.67</td>\n",
              "      <td>3.46</td>\n",
              "      <td>3.69</td>\n",
              "      <td>0.45</td>\n",
              "      <td>9.97</td>\n",
              "    </tr>\n",
              "    <tr>\n",
              "      <th>...</th>\n",
              "      <td>...</td>\n",
              "      <td>...</td>\n",
              "      <td>...</td>\n",
              "      <td>...</td>\n",
              "      <td>...</td>\n",
              "      <td>...</td>\n",
              "      <td>...</td>\n",
              "      <td>...</td>\n",
              "      <td>...</td>\n",
              "      <td>...</td>\n",
              "    </tr>\n",
              "    <tr>\n",
              "      <th>195</th>\n",
              "      <td>H16</td>\n",
              "      <td>32.650</td>\n",
              "      <td>1.07</td>\n",
              "      <td>-3.91</td>\n",
              "      <td>7.70</td>\n",
              "      <td>249.25</td>\n",
              "      <td>7.79</td>\n",
              "      <td>10.67</td>\n",
              "      <td>0.13</td>\n",
              "      <td>12.77</td>\n",
              "    </tr>\n",
              "    <tr>\n",
              "      <th>196</th>\n",
              "      <td>H17</td>\n",
              "      <td>32.550</td>\n",
              "      <td>1.28</td>\n",
              "      <td>-3.88</td>\n",
              "      <td>9.03</td>\n",
              "      <td>245.66</td>\n",
              "      <td>6.31</td>\n",
              "      <td>8.15</td>\n",
              "      <td>0.11</td>\n",
              "      <td>18.51</td>\n",
              "    </tr>\n",
              "    <tr>\n",
              "      <th>197</th>\n",
              "      <td>H18</td>\n",
              "      <td>32.450</td>\n",
              "      <td>1.37</td>\n",
              "      <td>-3.97</td>\n",
              "      <td>4.32</td>\n",
              "      <td>335.58</td>\n",
              "      <td>3.90</td>\n",
              "      <td>5.96</td>\n",
              "      <td>0.11</td>\n",
              "      <td>7.84</td>\n",
              "    </tr>\n",
              "    <tr>\n",
              "      <th>198</th>\n",
              "      <td>H19</td>\n",
              "      <td>32.350</td>\n",
              "      <td>0.49</td>\n",
              "      <td>-4.06</td>\n",
              "      <td>4.25</td>\n",
              "      <td>299.89</td>\n",
              "      <td>3.16</td>\n",
              "      <td>4.10</td>\n",
              "      <td>0.07</td>\n",
              "      <td>7.75</td>\n",
              "    </tr>\n",
              "    <tr>\n",
              "      <th>199</th>\n",
              "      <td>H20</td>\n",
              "      <td>32.250</td>\n",
              "      <td>1.11</td>\n",
              "      <td>-3.51</td>\n",
              "      <td>6.72</td>\n",
              "      <td>254.27</td>\n",
              "      <td>6.65</td>\n",
              "      <td>11.19</td>\n",
              "      <td>0.12</td>\n",
              "      <td>11.58</td>\n",
              "    </tr>\n",
              "  </tbody>\n",
              "</table>\n",
              "<p>200 rows × 10 columns</p>\n",
              "</div>"
            ],
            "text/plain": [
              "    Unnamed: 0  StratPosition  d13C  d18O  ...    Fe     Mg    Mn     Si\n",
              "0           Ae         35.080  1.95 -4.66  ...  1.52   2.22  0.34   8.61\n",
              "1           Ad         34.745  1.82 -4.57  ...  2.70   2.84  0.33   7.32\n",
              "2           Ac         34.660  1.91 -4.77  ...  3.13   3.12  0.40   9.65\n",
              "3           Ab         34.555  0.93 -4.58  ...  9.11   2.88  0.47  23.07\n",
              "4           Aa         34.285 -0.34 -4.54  ...  3.46   3.69  0.45   9.97\n",
              "..         ...            ...   ...   ...  ...   ...    ...   ...    ...\n",
              "195        H16         32.650  1.07 -3.91  ...  7.79  10.67  0.13  12.77\n",
              "196        H17         32.550  1.28 -3.88  ...  6.31   8.15  0.11  18.51\n",
              "197        H18         32.450  1.37 -3.97  ...  3.90   5.96  0.11   7.84\n",
              "198        H19         32.350  0.49 -4.06  ...  3.16   4.10  0.07   7.75\n",
              "199        H20         32.250  1.11 -3.51  ...  6.65  11.19  0.12  11.58\n",
              "\n",
              "[200 rows x 10 columns]"
            ]
          },
          "metadata": {
            "tags": []
          },
          "execution_count": 2
        }
      ]
    },
    {
      "cell_type": "markdown",
      "metadata": {
        "id": "DYo6ZOA9xILi"
      },
      "source": [
        "Next step would be to separate geochemical data and store that in a separate dataframe `geochem_df` and stratigraphic position in another dataframe `strat_df`."
      ]
    },
    {
      "cell_type": "code",
      "metadata": {
        "id": "1wHr9wnBeclm"
      },
      "source": [
        "geochem_df = df.iloc[:,2:]\n",
        "strat_df = df.iloc[:,1:2]"
      ],
      "execution_count": null,
      "outputs": []
    },
    {
      "cell_type": "markdown",
      "metadata": {
        "id": "YioGzZZYyjEQ"
      },
      "source": [
        "Visualizing `geochem_df` and `strat_df`."
      ]
    },
    {
      "cell_type": "code",
      "metadata": {
        "colab": {
          "base_uri": "https://localhost:8080/",
          "height": 419
        },
        "id": "c7b1ULhEyjQM",
        "outputId": "ea7ba850-407e-4d69-8dba-cc7dc59b64df"
      },
      "source": [
        "geochem_df"
      ],
      "execution_count": null,
      "outputs": [
        {
          "output_type": "execute_result",
          "data": {
            "text/html": [
              "<div>\n",
              "<style scoped>\n",
              "    .dataframe tbody tr th:only-of-type {\n",
              "        vertical-align: middle;\n",
              "    }\n",
              "\n",
              "    .dataframe tbody tr th {\n",
              "        vertical-align: top;\n",
              "    }\n",
              "\n",
              "    .dataframe thead th {\n",
              "        text-align: right;\n",
              "    }\n",
              "</style>\n",
              "<table border=\"1\" class=\"dataframe\">\n",
              "  <thead>\n",
              "    <tr style=\"text-align: right;\">\n",
              "      <th></th>\n",
              "      <th>d13C</th>\n",
              "      <th>d18O</th>\n",
              "      <th>Al</th>\n",
              "      <th>Ca</th>\n",
              "      <th>Fe</th>\n",
              "      <th>Mg</th>\n",
              "      <th>Mn</th>\n",
              "      <th>Si</th>\n",
              "    </tr>\n",
              "  </thead>\n",
              "  <tbody>\n",
              "    <tr>\n",
              "      <th>0</th>\n",
              "      <td>1.95</td>\n",
              "      <td>-4.66</td>\n",
              "      <td>1.49</td>\n",
              "      <td>297.16</td>\n",
              "      <td>1.52</td>\n",
              "      <td>2.22</td>\n",
              "      <td>0.34</td>\n",
              "      <td>8.61</td>\n",
              "    </tr>\n",
              "    <tr>\n",
              "      <th>1</th>\n",
              "      <td>1.82</td>\n",
              "      <td>-4.57</td>\n",
              "      <td>2.73</td>\n",
              "      <td>275.89</td>\n",
              "      <td>2.70</td>\n",
              "      <td>2.84</td>\n",
              "      <td>0.33</td>\n",
              "      <td>7.32</td>\n",
              "    </tr>\n",
              "    <tr>\n",
              "      <th>2</th>\n",
              "      <td>1.91</td>\n",
              "      <td>-4.77</td>\n",
              "      <td>4.26</td>\n",
              "      <td>328.11</td>\n",
              "      <td>3.13</td>\n",
              "      <td>3.12</td>\n",
              "      <td>0.40</td>\n",
              "      <td>9.65</td>\n",
              "    </tr>\n",
              "    <tr>\n",
              "      <th>3</th>\n",
              "      <td>0.93</td>\n",
              "      <td>-4.58</td>\n",
              "      <td>4.69</td>\n",
              "      <td>329.66</td>\n",
              "      <td>9.11</td>\n",
              "      <td>2.88</td>\n",
              "      <td>0.47</td>\n",
              "      <td>23.07</td>\n",
              "    </tr>\n",
              "    <tr>\n",
              "      <th>4</th>\n",
              "      <td>-0.34</td>\n",
              "      <td>-4.54</td>\n",
              "      <td>4.80</td>\n",
              "      <td>285.67</td>\n",
              "      <td>3.46</td>\n",
              "      <td>3.69</td>\n",
              "      <td>0.45</td>\n",
              "      <td>9.97</td>\n",
              "    </tr>\n",
              "    <tr>\n",
              "      <th>...</th>\n",
              "      <td>...</td>\n",
              "      <td>...</td>\n",
              "      <td>...</td>\n",
              "      <td>...</td>\n",
              "      <td>...</td>\n",
              "      <td>...</td>\n",
              "      <td>...</td>\n",
              "      <td>...</td>\n",
              "    </tr>\n",
              "    <tr>\n",
              "      <th>195</th>\n",
              "      <td>1.07</td>\n",
              "      <td>-3.91</td>\n",
              "      <td>7.70</td>\n",
              "      <td>249.25</td>\n",
              "      <td>7.79</td>\n",
              "      <td>10.67</td>\n",
              "      <td>0.13</td>\n",
              "      <td>12.77</td>\n",
              "    </tr>\n",
              "    <tr>\n",
              "      <th>196</th>\n",
              "      <td>1.28</td>\n",
              "      <td>-3.88</td>\n",
              "      <td>9.03</td>\n",
              "      <td>245.66</td>\n",
              "      <td>6.31</td>\n",
              "      <td>8.15</td>\n",
              "      <td>0.11</td>\n",
              "      <td>18.51</td>\n",
              "    </tr>\n",
              "    <tr>\n",
              "      <th>197</th>\n",
              "      <td>1.37</td>\n",
              "      <td>-3.97</td>\n",
              "      <td>4.32</td>\n",
              "      <td>335.58</td>\n",
              "      <td>3.90</td>\n",
              "      <td>5.96</td>\n",
              "      <td>0.11</td>\n",
              "      <td>7.84</td>\n",
              "    </tr>\n",
              "    <tr>\n",
              "      <th>198</th>\n",
              "      <td>0.49</td>\n",
              "      <td>-4.06</td>\n",
              "      <td>4.25</td>\n",
              "      <td>299.89</td>\n",
              "      <td>3.16</td>\n",
              "      <td>4.10</td>\n",
              "      <td>0.07</td>\n",
              "      <td>7.75</td>\n",
              "    </tr>\n",
              "    <tr>\n",
              "      <th>199</th>\n",
              "      <td>1.11</td>\n",
              "      <td>-3.51</td>\n",
              "      <td>6.72</td>\n",
              "      <td>254.27</td>\n",
              "      <td>6.65</td>\n",
              "      <td>11.19</td>\n",
              "      <td>0.12</td>\n",
              "      <td>11.58</td>\n",
              "    </tr>\n",
              "  </tbody>\n",
              "</table>\n",
              "<p>200 rows × 8 columns</p>\n",
              "</div>"
            ],
            "text/plain": [
              "     d13C  d18O    Al      Ca    Fe     Mg    Mn     Si\n",
              "0    1.95 -4.66  1.49  297.16  1.52   2.22  0.34   8.61\n",
              "1    1.82 -4.57  2.73  275.89  2.70   2.84  0.33   7.32\n",
              "2    1.91 -4.77  4.26  328.11  3.13   3.12  0.40   9.65\n",
              "3    0.93 -4.58  4.69  329.66  9.11   2.88  0.47  23.07\n",
              "4   -0.34 -4.54  4.80  285.67  3.46   3.69  0.45   9.97\n",
              "..    ...   ...   ...     ...   ...    ...   ...    ...\n",
              "195  1.07 -3.91  7.70  249.25  7.79  10.67  0.13  12.77\n",
              "196  1.28 -3.88  9.03  245.66  6.31   8.15  0.11  18.51\n",
              "197  1.37 -3.97  4.32  335.58  3.90   5.96  0.11   7.84\n",
              "198  0.49 -4.06  4.25  299.89  3.16   4.10  0.07   7.75\n",
              "199  1.11 -3.51  6.72  254.27  6.65  11.19  0.12  11.58\n",
              "\n",
              "[200 rows x 8 columns]"
            ]
          },
          "metadata": {
            "tags": []
          },
          "execution_count": 4
        }
      ]
    },
    {
      "cell_type": "code",
      "metadata": {
        "colab": {
          "base_uri": "https://localhost:8080/",
          "height": 419
        },
        "id": "_PrUwv9-yqbZ",
        "outputId": "02110f0e-5c8b-459c-e35b-c76aac099011"
      },
      "source": [
        "strat_df"
      ],
      "execution_count": null,
      "outputs": [
        {
          "output_type": "execute_result",
          "data": {
            "text/html": [
              "<div>\n",
              "<style scoped>\n",
              "    .dataframe tbody tr th:only-of-type {\n",
              "        vertical-align: middle;\n",
              "    }\n",
              "\n",
              "    .dataframe tbody tr th {\n",
              "        vertical-align: top;\n",
              "    }\n",
              "\n",
              "    .dataframe thead th {\n",
              "        text-align: right;\n",
              "    }\n",
              "</style>\n",
              "<table border=\"1\" class=\"dataframe\">\n",
              "  <thead>\n",
              "    <tr style=\"text-align: right;\">\n",
              "      <th></th>\n",
              "      <th>StratPosition</th>\n",
              "    </tr>\n",
              "  </thead>\n",
              "  <tbody>\n",
              "    <tr>\n",
              "      <th>0</th>\n",
              "      <td>35.080</td>\n",
              "    </tr>\n",
              "    <tr>\n",
              "      <th>1</th>\n",
              "      <td>34.745</td>\n",
              "    </tr>\n",
              "    <tr>\n",
              "      <th>2</th>\n",
              "      <td>34.660</td>\n",
              "    </tr>\n",
              "    <tr>\n",
              "      <th>3</th>\n",
              "      <td>34.555</td>\n",
              "    </tr>\n",
              "    <tr>\n",
              "      <th>4</th>\n",
              "      <td>34.285</td>\n",
              "    </tr>\n",
              "    <tr>\n",
              "      <th>...</th>\n",
              "      <td>...</td>\n",
              "    </tr>\n",
              "    <tr>\n",
              "      <th>195</th>\n",
              "      <td>32.650</td>\n",
              "    </tr>\n",
              "    <tr>\n",
              "      <th>196</th>\n",
              "      <td>32.550</td>\n",
              "    </tr>\n",
              "    <tr>\n",
              "      <th>197</th>\n",
              "      <td>32.450</td>\n",
              "    </tr>\n",
              "    <tr>\n",
              "      <th>198</th>\n",
              "      <td>32.350</td>\n",
              "    </tr>\n",
              "    <tr>\n",
              "      <th>199</th>\n",
              "      <td>32.250</td>\n",
              "    </tr>\n",
              "  </tbody>\n",
              "</table>\n",
              "<p>200 rows × 1 columns</p>\n",
              "</div>"
            ],
            "text/plain": [
              "     StratPosition\n",
              "0           35.080\n",
              "1           34.745\n",
              "2           34.660\n",
              "3           34.555\n",
              "4           34.285\n",
              "..             ...\n",
              "195         32.650\n",
              "196         32.550\n",
              "197         32.450\n",
              "198         32.350\n",
              "199         32.250\n",
              "\n",
              "[200 rows x 1 columns]"
            ]
          },
          "metadata": {
            "tags": []
          },
          "execution_count": 5
        }
      ]
    },
    {
      "cell_type": "markdown",
      "metadata": {
        "id": "4MPJO-N7yLDO"
      },
      "source": [
        "Let's now load `geochem_df` and `strat_df` into teo separate numpy arrays."
      ]
    },
    {
      "cell_type": "code",
      "metadata": {
        "colab": {
          "base_uri": "https://localhost:8080/"
        },
        "id": "9K9lqh9KrCDK",
        "outputId": "7867d2f4-3745-4154-f76d-fa0f7cae9371"
      },
      "source": [
        "x = geochem_df.values\n",
        "x, x.shape"
      ],
      "execution_count": null,
      "outputs": [
        {
          "output_type": "execute_result",
          "data": {
            "text/plain": [
              "(array([[ 1.95, -4.66,  1.49, ...,  2.22,  0.34,  8.61],\n",
              "        [ 1.82, -4.57,  2.73, ...,  2.84,  0.33,  7.32],\n",
              "        [ 1.91, -4.77,  4.26, ...,  3.12,  0.4 ,  9.65],\n",
              "        ...,\n",
              "        [ 1.37, -3.97,  4.32, ...,  5.96,  0.11,  7.84],\n",
              "        [ 0.49, -4.06,  4.25, ...,  4.1 ,  0.07,  7.75],\n",
              "        [ 1.11, -3.51,  6.72, ..., 11.19,  0.12, 11.58]]), (200, 8))"
            ]
          },
          "metadata": {
            "tags": []
          },
          "execution_count": 6
        }
      ]
    },
    {
      "cell_type": "code",
      "metadata": {
        "colab": {
          "base_uri": "https://localhost:8080/"
        },
        "id": "pOIOjpJyzAAL",
        "outputId": "3d57e23c-d7b8-4a01-8de9-882f6702f9ee"
      },
      "source": [
        "y = strat_df.values\n",
        "y, y.shape"
      ],
      "execution_count": null,
      "outputs": [
        {
          "output_type": "execute_result",
          "data": {
            "text/plain": [
              "(array([[35.08 ],\n",
              "        [34.745],\n",
              "        [34.66 ],\n",
              "        [34.555],\n",
              "        [34.285],\n",
              "        [34.15 ],\n",
              "        [34.05 ],\n",
              "        [33.95 ],\n",
              "        [33.85 ],\n",
              "        [33.75 ],\n",
              "        [33.65 ],\n",
              "        [33.55 ],\n",
              "        [33.45 ],\n",
              "        [33.35 ],\n",
              "        [33.25 ],\n",
              "        [33.15 ],\n",
              "        [33.05 ],\n",
              "        [32.95 ],\n",
              "        [32.85 ],\n",
              "        [32.75 ],\n",
              "        [32.65 ],\n",
              "        [32.55 ],\n",
              "        [32.45 ],\n",
              "        [32.35 ],\n",
              "        [32.25 ],\n",
              "        [35.08 ],\n",
              "        [34.745],\n",
              "        [34.66 ],\n",
              "        [34.555],\n",
              "        [34.285],\n",
              "        [34.15 ],\n",
              "        [34.05 ],\n",
              "        [33.95 ],\n",
              "        [33.85 ],\n",
              "        [33.75 ],\n",
              "        [33.65 ],\n",
              "        [33.55 ],\n",
              "        [33.45 ],\n",
              "        [33.35 ],\n",
              "        [33.25 ],\n",
              "        [33.15 ],\n",
              "        [33.05 ],\n",
              "        [32.95 ],\n",
              "        [32.85 ],\n",
              "        [32.75 ],\n",
              "        [32.65 ],\n",
              "        [32.55 ],\n",
              "        [32.45 ],\n",
              "        [32.35 ],\n",
              "        [32.25 ],\n",
              "        [35.08 ],\n",
              "        [34.745],\n",
              "        [34.66 ],\n",
              "        [34.555],\n",
              "        [34.285],\n",
              "        [34.15 ],\n",
              "        [34.05 ],\n",
              "        [33.95 ],\n",
              "        [33.85 ],\n",
              "        [33.75 ],\n",
              "        [33.65 ],\n",
              "        [33.55 ],\n",
              "        [33.45 ],\n",
              "        [33.35 ],\n",
              "        [33.25 ],\n",
              "        [33.15 ],\n",
              "        [33.05 ],\n",
              "        [32.95 ],\n",
              "        [32.85 ],\n",
              "        [32.75 ],\n",
              "        [32.65 ],\n",
              "        [32.55 ],\n",
              "        [32.45 ],\n",
              "        [32.35 ],\n",
              "        [32.25 ],\n",
              "        [35.08 ],\n",
              "        [34.745],\n",
              "        [34.66 ],\n",
              "        [34.555],\n",
              "        [34.285],\n",
              "        [34.15 ],\n",
              "        [34.05 ],\n",
              "        [33.95 ],\n",
              "        [33.85 ],\n",
              "        [33.75 ],\n",
              "        [33.65 ],\n",
              "        [33.55 ],\n",
              "        [33.45 ],\n",
              "        [33.35 ],\n",
              "        [33.25 ],\n",
              "        [33.15 ],\n",
              "        [33.05 ],\n",
              "        [32.95 ],\n",
              "        [32.85 ],\n",
              "        [32.75 ],\n",
              "        [32.65 ],\n",
              "        [32.55 ],\n",
              "        [32.45 ],\n",
              "        [32.35 ],\n",
              "        [32.25 ],\n",
              "        [35.08 ],\n",
              "        [34.745],\n",
              "        [34.66 ],\n",
              "        [34.555],\n",
              "        [34.285],\n",
              "        [34.15 ],\n",
              "        [34.05 ],\n",
              "        [33.95 ],\n",
              "        [33.85 ],\n",
              "        [33.75 ],\n",
              "        [33.65 ],\n",
              "        [33.55 ],\n",
              "        [33.45 ],\n",
              "        [33.35 ],\n",
              "        [33.25 ],\n",
              "        [33.15 ],\n",
              "        [33.05 ],\n",
              "        [32.95 ],\n",
              "        [32.85 ],\n",
              "        [32.75 ],\n",
              "        [32.65 ],\n",
              "        [32.55 ],\n",
              "        [32.45 ],\n",
              "        [32.35 ],\n",
              "        [32.25 ],\n",
              "        [35.08 ],\n",
              "        [34.745],\n",
              "        [34.66 ],\n",
              "        [34.555],\n",
              "        [34.285],\n",
              "        [34.15 ],\n",
              "        [34.05 ],\n",
              "        [33.95 ],\n",
              "        [33.85 ],\n",
              "        [33.75 ],\n",
              "        [33.65 ],\n",
              "        [33.55 ],\n",
              "        [33.45 ],\n",
              "        [33.35 ],\n",
              "        [33.25 ],\n",
              "        [33.15 ],\n",
              "        [33.05 ],\n",
              "        [32.95 ],\n",
              "        [32.85 ],\n",
              "        [32.75 ],\n",
              "        [32.65 ],\n",
              "        [32.55 ],\n",
              "        [32.45 ],\n",
              "        [32.35 ],\n",
              "        [32.25 ],\n",
              "        [35.08 ],\n",
              "        [34.745],\n",
              "        [34.66 ],\n",
              "        [34.555],\n",
              "        [34.285],\n",
              "        [34.15 ],\n",
              "        [34.05 ],\n",
              "        [33.95 ],\n",
              "        [33.85 ],\n",
              "        [33.75 ],\n",
              "        [33.65 ],\n",
              "        [33.55 ],\n",
              "        [33.45 ],\n",
              "        [33.35 ],\n",
              "        [33.25 ],\n",
              "        [33.15 ],\n",
              "        [33.05 ],\n",
              "        [32.95 ],\n",
              "        [32.85 ],\n",
              "        [32.75 ],\n",
              "        [32.65 ],\n",
              "        [32.55 ],\n",
              "        [32.45 ],\n",
              "        [32.35 ],\n",
              "        [32.25 ],\n",
              "        [35.08 ],\n",
              "        [34.745],\n",
              "        [34.66 ],\n",
              "        [34.555],\n",
              "        [34.285],\n",
              "        [34.15 ],\n",
              "        [34.05 ],\n",
              "        [33.95 ],\n",
              "        [33.85 ],\n",
              "        [33.75 ],\n",
              "        [33.65 ],\n",
              "        [33.55 ],\n",
              "        [33.45 ],\n",
              "        [33.35 ],\n",
              "        [33.25 ],\n",
              "        [33.15 ],\n",
              "        [33.05 ],\n",
              "        [32.95 ],\n",
              "        [32.85 ],\n",
              "        [32.75 ],\n",
              "        [32.65 ],\n",
              "        [32.55 ],\n",
              "        [32.45 ],\n",
              "        [32.35 ],\n",
              "        [32.25 ]]), (200, 1))"
            ]
          },
          "metadata": {
            "tags": []
          },
          "execution_count": 7
        }
      ]
    },
    {
      "cell_type": "markdown",
      "metadata": {
        "id": "VEOjIPWTr-T2"
      },
      "source": [
        "**Standardizing the dataset**"
      ]
    },
    {
      "cell_type": "markdown",
      "metadata": {
        "id": "GgmOiHA-r-T2"
      },
      "source": [
        "PCA is effected by scale so you need to scale the features in your data before applying PCA. Use StandardScaler to help you standardize the dataset’s features onto unit scale (mean = 0 and variance = 1) which is a requirement for the optimal performance of many machine learning algorithms."
      ]
    },
    {
      "cell_type": "code",
      "metadata": {
        "id": "VeMeDowRr-T2"
      },
      "source": [
        "from sklearn.preprocessing import StandardScaler\n",
        "x = StandardScaler().fit_transform(x)"
      ],
      "execution_count": null,
      "outputs": []
    },
    {
      "cell_type": "markdown",
      "metadata": {
        "id": "QPSLzbMyzOnR"
      },
      "source": [
        "Fitting dataset to PCA and using 8 components (equal to the number of variables) and then visualizing the scree plot."
      ]
    },
    {
      "cell_type": "code",
      "metadata": {
        "id": "-_62Xb-2r-T2"
      },
      "source": [
        "from sklearn.decomposition import PCA\n",
        "pca = PCA(n_components=8)\n",
        "principalComponents = pca.fit_transform(x)\n",
        "# Variance explained by each component\n",
        "perc = pca.explained_variance_ratio_"
      ],
      "execution_count": null,
      "outputs": []
    },
    {
      "cell_type": "markdown",
      "metadata": {
        "id": "v_PmNWFTzr7Z"
      },
      "source": [
        "Scree plot of the Variance Explained."
      ]
    },
    {
      "cell_type": "code",
      "metadata": {
        "colab": {
          "base_uri": "https://localhost:8080/",
          "height": 279
        },
        "id": "O-2pGQ1msyAp",
        "outputId": "2a6e8ace-ab53-4cc9-f771-45b42a29eb2d"
      },
      "source": [
        "import matplotlib.pyplot as plt\n",
        "\n",
        "x_axis = np.array([1,2,3,4,5,6,7,8])\n",
        "plt.scatter(x_axis, perc)\n",
        "plt.xlabel(\"Principal Component\")\n",
        "plt.ylabel(\"Percentage Variance\")\n",
        "plt.show()"
      ],
      "execution_count": null,
      "outputs": [
        {
          "output_type": "display_data",
          "data": {
            "image/png": "[encoded data removed]",
            "text/plain": [
              "<Figure size 432x288 with 1 Axes>"
            ]
          },
          "metadata": {
            "tags": [],
            "needs_background": "light"
          }
        }
      ]
    },
    {
      "cell_type": "markdown",
      "metadata": {
        "id": "LO6WLDpK0eZv"
      },
      "source": [
        "1) The first thing we should look for in the scree plot is a marked drop in the percentage of explained variance.\n",
        "\n",
        "2) The second criteria is which principal component explains more than one variable's worth of information.\n",
        "\n",
        "If we consider the second case, each component's contribution comes around 12.5% . Let's now see how many pricipal components lie above this threshold."
      ]
    },
    {
      "cell_type": "code",
      "metadata": {
        "colab": {
          "base_uri": "https://localhost:8080/"
        },
        "id": "WVjTa21N1XXZ",
        "outputId": "06743b77-5581-453b-b25d-09ef3ecd58b2"
      },
      "source": [
        "perc > 0.125"
      ],
      "execution_count": null,
      "outputs": [
        {
          "output_type": "execute_result",
          "data": {
            "text/plain": [
              "array([ True,  True,  True, False, False, False, False, False])"
            ]
          },
          "metadata": {
            "tags": []
          },
          "execution_count": 11
        }
      ]
    },
    {
      "cell_type": "markdown",
      "metadata": {
        "id": "ekJPLdtz1diS"
      },
      "source": [
        "From the above code block we can see that 1st three principal components lie over the set threshold and below we show how much they actually contribute together."
      ]
    },
    {
      "cell_type": "code",
      "metadata": {
        "colab": {
          "base_uri": "https://localhost:8080/"
        },
        "id": "4-9pDRxq1c9c",
        "outputId": "e754d437-101d-40f2-9f4c-ff21e2716d3f"
      },
      "source": [
        "print(\"Total contribution of 1st three components: {} %\".format(np.sum(perc[:3])*100))"
      ],
      "execution_count": null,
      "outputs": [
        {
          "output_type": "stream",
          "text": [
            "Total contribution of 1st three components: 72.56807552755035 %\n"
          ],
          "name": "stdout"
        }
      ]
    },
    {
      "cell_type": "markdown",
      "metadata": {
        "id": "YANtmyc62GrV"
      },
      "source": [
        "The nexr step is to see how the varibles contribute to each principal component. As there are 8 variables and 8 principal components, the `loading` matrix will be $8 \\times 8$, but we are only concerned about the 1st three components."
      ]
    },
    {
      "cell_type": "code",
      "metadata": {
        "colab": {
          "base_uri": "https://localhost:8080/"
        },
        "id": "pbmUlIOWwNRh",
        "outputId": "b2c40271-cf51-4983-9700-7fc02c45eff0"
      },
      "source": [
        "loadings = pca.components_.T * np.sqrt(pca.explained_variance_)\n",
        "loadings.shape"
      ],
      "execution_count": null,
      "outputs": [
        {
          "output_type": "execute_result",
          "data": {
            "text/plain": [
              "(8, 8)"
            ]
          },
          "metadata": {
            "tags": []
          },
          "execution_count": 13
        }
      ]
    },
    {
      "cell_type": "markdown",
      "metadata": {
        "id": "uqbtAWk_3pbc"
      },
      "source": [
        "Storing these values in the dataframe `loadings_df` and visualizing them."
      ]
    },
    {
      "cell_type": "code",
      "metadata": {
        "colab": {
          "base_uri": "https://localhost:8080/",
          "height": 297
        },
        "id": "oDlwfhGm3vu5",
        "outputId": "fc09845d-7578-4088-eb76-95197a3704c1"
      },
      "source": [
        "# creating a list of index names \n",
        "index_values = ['d13C', 'd180', 'Al', 'Ca', \n",
        "                'Fe', 'Mg', 'Mn', 'Si'] \n",
        "   \n",
        "# creating a list of column names \n",
        "column_values = ['PC1', 'PC2', 'PC3'] \n",
        "  \n",
        "# creating the dataframe \n",
        "loadings_df = pd.DataFrame(data = loadings[:,:3],  \n",
        "                  index = index_values,  \n",
        "                  columns = column_values)\n",
        "\n",
        "loadings_df"
      ],
      "execution_count": null,
      "outputs": [
        {
          "output_type": "execute_result",
          "data": {
            "text/html": [
              "<div>\n",
              "<style scoped>\n",
              "    .dataframe tbody tr th:only-of-type {\n",
              "        vertical-align: middle;\n",
              "    }\n",
              "\n",
              "    .dataframe tbody tr th {\n",
              "        vertical-align: top;\n",
              "    }\n",
              "\n",
              "    .dataframe thead th {\n",
              "        text-align: right;\n",
              "    }\n",
              "</style>\n",
              "<table border=\"1\" class=\"dataframe\">\n",
              "  <thead>\n",
              "    <tr style=\"text-align: right;\">\n",
              "      <th></th>\n",
              "      <th>PC1</th>\n",
              "      <th>PC2</th>\n",
              "      <th>PC3</th>\n",
              "    </tr>\n",
              "  </thead>\n",
              "  <tbody>\n",
              "    <tr>\n",
              "      <th>d13C</th>\n",
              "      <td>0.192518</td>\n",
              "      <td>0.300466</td>\n",
              "      <td>-0.724295</td>\n",
              "    </tr>\n",
              "    <tr>\n",
              "      <th>d180</th>\n",
              "      <td>0.019791</td>\n",
              "      <td>-0.890953</td>\n",
              "      <td>-0.039835</td>\n",
              "    </tr>\n",
              "    <tr>\n",
              "      <th>Al</th>\n",
              "      <td>0.891372</td>\n",
              "      <td>-0.308336</td>\n",
              "      <td>-0.102387</td>\n",
              "    </tr>\n",
              "    <tr>\n",
              "      <th>Ca</th>\n",
              "      <td>-0.560233</td>\n",
              "      <td>-0.078751</td>\n",
              "      <td>-0.360169</td>\n",
              "    </tr>\n",
              "    <tr>\n",
              "      <th>Fe</th>\n",
              "      <td>0.696894</td>\n",
              "      <td>0.445288</td>\n",
              "      <td>0.321456</td>\n",
              "    </tr>\n",
              "    <tr>\n",
              "      <th>Mg</th>\n",
              "      <td>0.435280</td>\n",
              "      <td>-0.713459</td>\n",
              "      <td>-0.340251</td>\n",
              "    </tr>\n",
              "    <tr>\n",
              "      <th>Mn</th>\n",
              "      <td>0.228903</td>\n",
              "      <td>0.618762</td>\n",
              "      <td>-0.431325</td>\n",
              "    </tr>\n",
              "    <tr>\n",
              "      <th>Si</th>\n",
              "      <td>0.898759</td>\n",
              "      <td>0.054642</td>\n",
              "      <td>0.058447</td>\n",
              "    </tr>\n",
              "  </tbody>\n",
              "</table>\n",
              "</div>"
            ],
            "text/plain": [
              "           PC1       PC2       PC3\n",
              "d13C  0.192518  0.300466 -0.724295\n",
              "d180  0.019791 -0.890953 -0.039835\n",
              "Al    0.891372 -0.308336 -0.102387\n",
              "Ca   -0.560233 -0.078751 -0.360169\n",
              "Fe    0.696894  0.445288  0.321456\n",
              "Mg    0.435280 -0.713459 -0.340251\n",
              "Mn    0.228903  0.618762 -0.431325\n",
              "Si    0.898759  0.054642  0.058447"
            ]
          },
          "metadata": {
            "tags": []
          },
          "execution_count": 14
        }
      ]
    },
    {
      "cell_type": "markdown",
      "metadata": {
        "id": "InPRZNk0r-T2"
      },
      "source": [
        "**Plotting Visualization**\n",
        "\n",
        "The final step is to visualize the scatter plot in 2D. Here we'll use only the 1st two Principal Components. The data is divided into two classes, Carters (stratigraphic position < 34.2) and Hermitage (stratigraphic position > 34.2)."
      ]
    },
    {
      "cell_type": "code",
      "metadata": {
        "colab": {
          "base_uri": "https://localhost:8080/",
          "height": 295
        },
        "id": "ha1aB9bYr-T2",
        "outputId": "24519cb9-5a60-4625-9421-68ac2f4556bc"
      },
      "source": [
        "import matplotlib.pyplot as plt\n",
        "\n",
        "y_label = (y > 34.2)*1\n",
        "y_label = y_label.reshape(y_label.shape[0])\n",
        "\n",
        "# plot the clusters\n",
        "plt.scatter(principalComponents[y_label == 0,0],principalComponents[y_label == 0,1], color='green', label='Carters')\n",
        "plt.scatter(principalComponents[y_label == 1,0],principalComponents[y_label == 1,1], color='orange', label='Hermitage')\n",
        "\n",
        "plt.legend(scatterpoints=1)\n",
        "plt.title(\"Nashville Carbobnates\")\n",
        "plt.xlabel(\"Principal component 1\")\n",
        "plt.ylabel(\"Principal component 2\")\n",
        "plt.show()"
      ],
      "execution_count": null,
      "outputs": [
        {
          "output_type": "display_data",
          "data": {
            "image/png": "[encoded data removed]",
            "text/plain": [
              "<Figure size 432x288 with 1 Axes>"
            ]
          },
          "metadata": {
            "tags": [],
            "needs_background": "light"
          }
        }
      ]
    },
    {
      "cell_type": "code",
      "metadata": {
        "id": "NOfDhUtariqg"
      },
      "source": [
        ""
      ],
      "execution_count": null,
      "outputs": []
    }
  ]
}